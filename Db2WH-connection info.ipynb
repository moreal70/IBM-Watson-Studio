{
    "nbformat_minor": 1, 
    "cells": [
        {
            "source": "# Db2 Warehouse on Cloud  \uc811\uc18d\uc815\ubcf4 \uac00\uc838\uc624\uae30\n\n* [Db2 Warehouse on Cloud](https://console.bluemix.net/catalog/services/db2-warehouse) \uc11c\ube44\uc2a4\ub97c \ud65c\uc6a9\ud558\uae30 \uc704\ud574\uc11c  \uc11c\ube44\uc2a4\ub97c \uc0dd\uc131\ud558\uace0, \ud504\ub85c\uadf8\ub7a8\uc5d0\uc11c \ud544\uc694\ud55c \uc811\uc18d \uc815\ubcf4\ub97c \uac00\uc838\uc640\uc57c \ud569\ub2c8\ub2e4.", 
            "cell_type": "markdown", 
            "metadata": {}
        }, 
        {
            "source": "## \uc815\ubcf4 \uc218\uc9d1 \uc808\ucc28\ub294 \uc544\ub798\uc640 \uac19\uc774 2\uac00\uc9c0 \ubc29\ubc95\uc774 \uc788\uc2b5\ub2c8\ub2e4.\n\n* Db2 ware house \uad00\ub9ac \ud654\uba74\uc73c\ub85c \ub4e4\uc5b4\uac00\uc11c conneciton info \uba54\ub274\ub97c \ud074\ub9ad\ud569\ub2c8\ub2e4 ![screen#2](https://github.com/moreal70/IBM-Watson-Studio/raw/master/images/connection-db2wh-2.png) ", 
            "cell_type": "markdown", 
            "metadata": {}
        }, 
        {
            "source": "* Db2 ware house \uc11c\ube44\uc2a4 \uc2e0\uc784 \uc815\ubcf4 \uba54\ub274\uc5d0\uc11c \"\uc2e0\uc784\uc815\ubcf4\ubcf4\uae30\"\ub97c \ud074\ub9ad\ud569\ub2c8\ub2e4. ![screen#3](https://github.com/moreal70/IBM-Watson-Studio/raw/master/images/connection-db2wh-3.png) ", 
            "cell_type": "markdown", 
            "metadata": {}
        }
    ], 
    "metadata": {
        "kernelspec": {
            "display_name": "Python 3.5", 
            "name": "python3", 
            "language": "python"
        }, 
        "language_info": {
            "mimetype": "text/x-python", 
            "nbconvert_exporter": "python", 
            "version": "3.5.4", 
            "name": "python", 
            "file_extension": ".py", 
            "pygments_lexer": "ipython3", 
            "codemirror_mode": {
                "version": 3, 
                "name": "ipython"
            }
        }
    }, 
    "nbformat": 4
}
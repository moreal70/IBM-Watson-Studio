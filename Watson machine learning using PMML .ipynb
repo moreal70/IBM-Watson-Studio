{
    "nbformat_minor": 1, 
    "cells": [
        {
            "source": "## IBM Watson Machine Learning using PMML", 
            "cell_type": "markdown", 
            "metadata": {}
        }, 
        {
            "source": "* \uc774 \ub178\ud2b8\ubd81\uc740 Watson Machine learning \uc5d0\uc11c sample \ub85c \ub9cc\ub4e4\uc5b4\uc838 \uc800\uc7a5\ub418\uc5b4 \uc788\ub294 PMML (Predictive Model Markup Language) \uc744 \uc0ac\uc6a9\ud558\uc5ec\n* \uaf43\uc78e, \uaf43\ubc1b\uce68\uc5d0 \ub300\ud55c \ud06c\uae30  \ub370\uc774\ud130\ub97c \uac00\uc9c0\uace0 IRIS \ud488\uc885\uc744 \uc608\uce21\ud558\ub294 \uc0d8\ud50c\uc785\ub2c8\ub2e4. \n\n## Learning goals\n\n-  Watson Machine Learning (WML) instance\ub97c \uc0dd\uc131\ud558\uace0\n-  \ubbf8\ub9ac \ub9cc\ub4e4\uc5b4\uc9c4 PMML model \ubd88\ub7ec\uc11c\n-  test \ub370\uc774\ud130\uc5d0 \ub300\ud55c scoring \uc744 \uc218\ud589\ud569\ub2c8\ub2e4. \n\n\n## Contents\n\n1.\t[Set up the environment](#setup)\n2.\t[Work with the WML service instance](#instance) \n3.\t[Persist, deploy and score in an IBM Cloud](#scoring)\n4.\t[Summary and next steps](#summary)\n\n\n* \ucc38\uace0\ub85c \uc6d0\ubcf8 \uc18c\uc2a4\uc5d0\uc11c wget --> wget.download \ud568\uc218\ub85c \uc218\uc815\ub418\uc5b4\uc57c\ud569\ub2c8\ub2e4. ", 
            "cell_type": "markdown", 
            "metadata": {}
        }, 
        {
            "source": "<a id=\"setup\"></a>\n## 1. Set up the environment\n\nBefore you use the sample code in this notebook, you must perform the following setup tasks:\n\n-  Create a [Watson Machine Learning (WML) Service](https://console.ng.bluemix.net/catalog/services/ibm-watson-machine-learning/) instance (a free plan is offered and information about how to create the instance is [here](https://dataplatform.ibm.com/docs/content/analyze-data/wml-setup.html))\n-   **Not required on Watson Studio**: Install the [watson-machine-learning-client](https://pypi.python.org/pypi?%3Aaction=search&term=watson-machine-learning-client&submit=search)", 
            "cell_type": "markdown", 
            "metadata": {}
        }, 
        {
            "source": "<a id=\"instance\"></a>\n## 2. Working with the WML service instance", 
            "cell_type": "markdown", 
            "metadata": {}
        }, 
        {
            "source": "In this section you will learn how to get details about your WML service instance.", 
            "cell_type": "markdown", 
            "metadata": {}
        }, 
        {
            "source": "First, install the Python API client from pypi.", 
            "cell_type": "markdown", 
            "metadata": {}
        }, 
        {
            "execution_count": 28, 
            "cell_type": "code", 
            "metadata": {}, 
            "outputs": [], 
            "source": "!rm -rf $PIP_BUILD/watson-machine-learning-client"
        }, 
        {
            "execution_count": 30, 
            "cell_type": "code", 
            "metadata": {}, 
            "outputs": [
                {
                    "output_type": "stream", 
                    "name": "stdout", 
                    "text": "\ntotal 24\ndrwxr-x--- 2 dsxuser dsxuser  4096 Apr 16 10:38 .\ndrwxr-x--- 3 dsxuser dsxuser  4096 Apr 16 10:38 ..\n-rw-r----- 1 dsxuser dsxuser 13876 Apr 16 10:38 iris_chaid.xml\n"
                }
            ], 
            "source": "!echo $PIP_BUILD\n!ls -al pmml_sample_model\n"
        }, 
        {
            "execution_count": 31, 
            "cell_type": "code", 
            "metadata": {}, 
            "outputs": [
                {
                    "output_type": "stream", 
                    "name": "stdout", 
                    "text": "Requirement already up-to-date: watson-machine-learning-client in /opt/conda/envs/DSX-Python35/lib/python3.5/site-packages\nRequirement not upgraded as not directly required: requests in /opt/conda/envs/DSX-Python35/lib/python3.5/site-packages (from watson-machine-learning-client)\nRequirement not upgraded as not directly required: ibm-cos-sdk in /opt/conda/envs/DSX-Python35/lib/python3.5/site-packages (from watson-machine-learning-client)\nRequirement not upgraded as not directly required: tabulate in /opt/conda/envs/DSX-Python35/lib/python3.5/site-packages (from watson-machine-learning-client)\nRequirement not upgraded as not directly required: certifi in /opt/conda/envs/DSX-Python35/lib/python3.5/site-packages (from watson-machine-learning-client)\nRequirement not upgraded as not directly required: urllib3 in /opt/conda/envs/DSX-Python35/lib/python3.5/site-packages (from watson-machine-learning-client)\nRequirement not upgraded as not directly required: pandas in /opt/conda/envs/DSX-Python35/lib/python3.5/site-packages (from watson-machine-learning-client)\nRequirement not upgraded as not directly required: lomond in /opt/conda/envs/DSX-Python35/lib/python3.5/site-packages (from watson-machine-learning-client)\nRequirement not upgraded as not directly required: tqdm in /opt/conda/envs/DSX-Python35/lib/python3.5/site-packages (from watson-machine-learning-client)\nRequirement not upgraded as not directly required: chardet<3.1.0,>=3.0.2 in /opt/conda/envs/DSX-Python35/lib/python3.5/site-packages (from requests->watson-machine-learning-client)\nRequirement not upgraded as not directly required: idna<2.7,>=2.5 in /opt/conda/envs/DSX-Python35/lib/python3.5/site-packages (from requests->watson-machine-learning-client)\nRequirement not upgraded as not directly required: ibm-cos-sdk-s3transfer==2.*,>=2.0.0 in /opt/conda/envs/DSX-Python35/lib/python3.5/site-packages (from ibm-cos-sdk->watson-machine-learning-client)\nRequirement not upgraded as not directly required: ibm-cos-sdk-core==2.*,>=2.0.0 in /opt/conda/envs/DSX-Python35/lib/python3.5/site-packages (from ibm-cos-sdk->watson-machine-learning-client)\nRequirement not upgraded as not directly required: python-dateutil>=2 in /opt/conda/envs/DSX-Python35/lib/python3.5/site-packages (from pandas->watson-machine-learning-client)\nRequirement not upgraded as not directly required: pytz>=2011k in /opt/conda/envs/DSX-Python35/lib/python3.5/site-packages (from pandas->watson-machine-learning-client)\nRequirement not upgraded as not directly required: numpy>=1.9.0 in /opt/conda/envs/DSX-Python35/lib/python3.5/site-packages (from pandas->watson-machine-learning-client)\nRequirement not upgraded as not directly required: six>=1.10.0 in /opt/conda/envs/DSX-Python35/lib/python3.5/site-packages (from lomond->watson-machine-learning-client)\nRequirement not upgraded as not directly required: docutils>=0.10 in /opt/conda/envs/DSX-Python35/lib/python3.5/site-packages (from ibm-cos-sdk-core==2.*,>=2.0.0->ibm-cos-sdk->watson-machine-learning-client)\nRequirement not upgraded as not directly required: jmespath<1.0.0,>=0.7.1 in /opt/conda/envs/DSX-Python35/lib/python3.5/site-packages (from ibm-cos-sdk-core==2.*,>=2.0.0->ibm-cos-sdk->watson-machine-learning-client)\n"
                }
            ], 
            "source": "#Install the WML client if required.\n!pip install watson-machine-learning-client --upgrade"
        }, 
        {
            "source": "Authenticate to the WML service on IBM Cloud.\n\n**Tip**: Authentication information (your credentials) can be found in the [Service Credentials](https://console.bluemix.net/docs/services/service_credentials.html#service_credentials) tab of the service instance that you created on IBM Cloud. <BR>If you cannot see the **instance_id** field in **Service Credentials**, click **New credential (+)** to generate new authentication information. \n\n**Action**: Enter your WML service instance credentials here.\n\n ![WML Credentials](https://github.com/moreal70/IBM-Watson-Studio/raw/master/images/watson-ml-credential.png)", 
            "cell_type": "markdown", 
            "metadata": {}
        }, 
        {
            "execution_count": 32, 
            "cell_type": "code", 
            "metadata": {}, 
            "outputs": [], 
            "source": "# Enter your credentials here.\nwml_credentials = {\n  \"url\": \"https://ibm-watson-ml.mybluemix.net\",\n  \"access_key\": \"j86cnGBYCcsTMsUFBCcgKBkjX5PqkAa/t9ma71APWHOEWHn65lGUX+iucyKk+LVaHxGxQ3pIogjgEOjN0TGDTcL0h32gVzPkwMbmHXNpi+FQYUqQmv73SQJrb1WXWeZv\",\n  \"username\": \"5c4c9072-3613-4a1b-9eb9-e77d3c55c04a\",\n  \"password\": \"899810ee-80d6-48bc-9567-2e5a401d4066\",\n  \"instance_id\": \"0c748ad9-d4fc-441e-9b48-a6f5bf9e18d7\"\n}"
        }, 
        {
            "execution_count": 33, 
            "cell_type": "code", 
            "metadata": {}, 
            "outputs": [], 
            "source": "from watson_machine_learning_client import WatsonMachineLearningAPIClient"
        }, 
        {
            "execution_count": 34, 
            "cell_type": "code", 
            "metadata": {}, 
            "outputs": [], 
            "source": "wml_client = WatsonMachineLearningAPIClient(wml_credentials)"
        }, 
        {
            "source": "Details about your WML service instance are available in `instance_details`.", 
            "cell_type": "markdown", 
            "metadata": {}
        }, 
        {
            "execution_count": 35, 
            "cell_type": "code", 
            "metadata": {
                "scrolled": true
            }, 
            "outputs": [
                {
                    "output_type": "stream", 
                    "name": "stdout", 
                    "text": "{'entity': {'plan': 'lite', 'usage': {'prediction_count': {'limit': 5000, 'current': 1}, 'capacity_units': {'limit': 180000000, 'current': 0}, 'expiration_date': '2018-05-01T00:00:00.000Z', 'gpu_count': {'limit': 8, 'current': 0}, 'computation_time': {'limit': 180000, 'current': 0}, 'deployment_count': {'limit': 5, 'current': 1}, 'model_count': {'limit': 200, 'current': 2}}, 'source': 'Bluemix', 'organization_guid': '720d3e36-0ad6-4b64-a448-6b389465774f', 'region': 'us-south', 'published_models': {'url': 'https://ibm-watson-ml.mybluemix.net/v3/wml_instances/0c748ad9-d4fc-441e-9b48-a6f5bf9e18d7/published_models'}, 'space_guid': '0f23944d-88d2-48e0-ae74-d805e8855d9b', 'owner': {'email': 'parkhsu@kr.ibm.com', 'user_id': '062176d1-fd73-4425-b4bd-4d08d4c79721', 'beta_user': True, 'country_code': 'KOR', 'ibm_id': '120000M69P'}, 'plan_id': '3f6acf43-ede8-413a-ac69-f8af3bb0cbfe', 'status': 'Active', 'account': {'type': 'PAYG', 'id': '500115386', 'name': \"hyeonsu Park's Account\"}, 'deployments': {'url': 'https://ibm-watson-ml.mybluemix.net/v3/wml_instances/0c748ad9-d4fc-441e-9b48-a6f5bf9e18d7/deployments'}}, 'metadata': {'modified_at': '2018-04-16T10:40:08.555Z', 'guid': '0c748ad9-d4fc-441e-9b48-a6f5bf9e18d7', 'url': 'https://ibm-watson-ml.mybluemix.net/v3/wml_instances/0c748ad9-d4fc-441e-9b48-a6f5bf9e18d7', 'created_at': '2018-03-29T02:35:23.737Z'}}\n"
                }
            ], 
            "source": "# List information about your WML service instance.\nprint(wml_client.instance_details)"
        }, 
        {
            "source": "Get information about the stored models for your WML instance.", 
            "cell_type": "markdown", 
            "metadata": {}
        }, 
        {
            "execution_count": 36, 
            "cell_type": "code", 
            "metadata": {}, 
            "outputs": [
                {
                    "output_type": "stream", 
                    "name": "stdout", 
                    "text": "------------------------------------  ---------------------------------------  ------------------------  -----------------\nGUID                                  NAME                                     CREATED                   FRAMEWORK\n694b337e-baa8-4f0c-b8c6-5741c9b6ea8e  PARKHSU created Digits prediction model  2018-03-29T02:37:53.795Z  scikit-learn-0.19\n620fe809-1901-4487-b93c-9a500d4ccd30  CHAID PMML model for Iris data           2018-04-16T10:38:48.025Z  pmml-4.2\n------------------------------------  ---------------------------------------  ------------------------  -----------------\n"
                }
            ], 
            "source": "# List information about the stored models.\nwml_client.repository.list_models()"
        }, 
        {
            "source": "Get a list of the deployed models for your WML service instance.", 
            "cell_type": "markdown", 
            "metadata": {}
        }, 
        {
            "execution_count": 37, 
            "cell_type": "code", 
            "metadata": {
                "scrolled": false
            }, 
            "outputs": [
                {
                    "output_type": "stream", 
                    "name": "stdout", 
                    "text": "------------------------------------  -----------------------  ------  --------------  ------------------------  ---------\nGUID                                  NAME                     TYPE    STATE           CREATED                   FRAMEWORK\nc57dbc5c-81db-4b36-94a0-08933935dd86  Iris species prediction  online  DEPLOY_SUCCESS  2018-04-16T10:39:25.363Z  pmml-4.2\n------------------------------------  -----------------------  ------  --------------  ------------------------  ---------\n"
                }
            ], 
            "source": "# List the deployed models.\nwml_client.deployments.list()"
        }, 
        {
            "source": "<a id=\"scoring\"></a>\n## 3. Persist, deploy and score model in a Cloud", 
            "cell_type": "markdown", 
            "metadata": {}
        }, 
        {
            "source": "In this section you will use the Python API client for the WML service to create an online deployment and score a new data record.\n\nFor more information, see the <a href=\"http://wml-api-pyclient.mybluemix.net/\" target=\"_blank\" rel=\"noopener no referrer\">Python API client documentation</a>.\n\n- [3.1. Persist model](#persist)\n- [3.2. Create the online deployment](#deploy)\n- [3.3. Score data](#score)\n", 
            "cell_type": "markdown", 
            "metadata": {}
        }, 
        {
            "source": "### 3.1. Persist model<a id=\"persist\"></a>", 
            "cell_type": "markdown", 
            "metadata": {}
        }, 
        {
            "source": "**Action**: Use `wget` to download the sample PMML model, `iris_chaid.xml` from the Git project.", 
            "cell_type": "markdown", 
            "metadata": {}
        }, 
        {
            "execution_count": 38, 
            "cell_type": "code", 
            "metadata": {}, 
            "outputs": [
                {
                    "output_type": "stream", 
                    "name": "stdout", 
                    "text": "Requirement not upgraded as not directly required: wget in /opt/conda/envs/DSX-Python35/lib/python3.5/site-packages\r\n"
                }
            ], 
            "source": "!pip install wget"
        }, 
        {
            "execution_count": 40, 
            "cell_type": "code", 
            "metadata": {}, 
            "outputs": [], 
            "source": "# Download sample PMML model, iris_chaid.xml, from Git.\nimport wget\nimport os"
        }, 
        {
            "source": "* \uc608\uce21\ubaa8\ub378\uc744 \uc800\uc7a5\ud560 directory\ub97c \uc0dd\uc131\ud558\uace0 Watson machine learning \uc11c\ube44\uc2a4\uac00 \uc81c\uacf5\ud558\ub294 \uc0d8\ud50c \ubaa8\ub378\uc744 download \ud569\ub2c8\ub2e4.\n* \uc5ec\uae30\uc11c \uc6d0\ubcf8 \uc18c\uc18c\ub97c  wget.download \ub85c \uc218\uc815\ud574\uc57c \ud569\ub2c8\ub2e4. ", 
            "cell_type": "markdown", 
            "metadata": {}
        }, 
        {
            "execution_count": 43, 
            "cell_type": "code", 
            "metadata": {}, 
            "outputs": [
                {
                    "execution_count": 43, 
                    "metadata": {}, 
                    "data": {
                        "text/plain": "'pmml_sample_model/iris_chaid (1).xml'"
                    }, 
                    "output_type": "execute_result"
                }
            ], 
            "source": "sample_dir = 'pmml_sample_model'\nif not os.path.isdir(sample_dir):\n    os.mkdir(sample_dir)\n    \n#filename=os.path.join(sample_dir, 'iris_chaid.xml')\n#if not os.path.isfile(filename) :\nfilename = wget.download('https://github.com/pmservice/wml-sample-models/raw/master/pmml/iris-species/model/iris_chaid.xml', out=sample_dir)\nfilename"
        }, 
        {
            "source": "Store the downloaded file as *CHAID PMML model for Iris data* in the WML service repository, then list all the files stored in the repository.", 
            "cell_type": "markdown", 
            "metadata": {}
        }, 
        {
            "execution_count": 44, 
            "cell_type": "code", 
            "metadata": {}, 
            "outputs": [
                {
                    "output_type": "stream", 
                    "name": "stdout", 
                    "text": "------------------------------------  ---------------------------------------  ------------------------  -----------------\nGUID                                  NAME                                     CREATED                   FRAMEWORK\n694b337e-baa8-4f0c-b8c6-5741c9b6ea8e  PARKHSU created Digits prediction model  2018-03-29T02:37:53.795Z  scikit-learn-0.19\n620fe809-1901-4487-b93c-9a500d4ccd30  CHAID PMML model for Iris data           2018-04-16T10:38:48.025Z  pmml-4.2\nf74a8ee1-09b6-4d89-856e-f4bab431a0ef  CHAID PMML model for Iris data           2018-04-16T11:13:01.858Z  pmml-4.2\n------------------------------------  ---------------------------------------  ------------------------  -----------------\n"
                }
            ], 
            "source": "# Save the downloaded file to the WML repository.\nprops_pmml = {wml_client.repository.ModelMetaNames.NAME: 'CHAID PMML model for Iris data',\n              wml_client.repository.ModelMetaNames.AUTHOR_NAME: \"IBM\", \n              wml_client.repository.ModelMetaNames.AUTHOR_EMAIL: \"ibm@ibm.com\", \n              wml_client.repository.ModelMetaNames.FRAMEWORK_NAME: \"pmml\", \n              wml_client.repository.ModelMetaNames.FRAMEWORK_VERSION: \"4.2\"}\n\nmodel_details = wml_client.repository.store_model(filename, props_pmml)\nwml_client.repository.list_models()"
        }, 
        {
            "source": "**Note:** From the list of downloaded files, you can see that model is successfully stored in the WML service repository.", 
            "cell_type": "markdown", 
            "metadata": {}
        }, 
        {
            "source": "### 3.2. Create the online deployment<a id=\"deploy\"></a>", 
            "cell_type": "markdown", 
            "metadata": {}
        }, 
        {
            "source": "Now create the online deployment, *Iris species prediction*, for the stored model, then list all the online deployments for the model.", 
            "cell_type": "markdown", 
            "metadata": {}
        }, 
        {
            "execution_count": 46, 
            "cell_type": "code", 
            "metadata": {}, 
            "outputs": [
                {
                    "output_type": "stream", 
                    "name": "stdout", 
                    "text": "\n\n#######################################################################################\n\nSynchronous deployment creation for uid: 'fe5e3c56-925f-4cdc-83a6-2b81da7cb421' started\n\n#######################################################################################\n\n\nINITIALIZING\nDEPLOY_SUCCESS\n\n\n------------------------------------------------------------------------------------------------\nSuccessfully finished deployment creation, deployment_uid='fe5e3c56-925f-4cdc-83a6-2b81da7cb421'\n------------------------------------------------------------------------------------------------\n\n\n"
                }
            ], 
            "source": "# Create the online deployment.\nmodel_uid = wml_client.repository.get_model_uid(model_details)\nmodel_deployment = wml_client.deployments.create(model_uid, name = 'Iris species prediction')"
        }, 
        {
            "execution_count": 47, 
            "cell_type": "code", 
            "metadata": {}, 
            "outputs": [
                {
                    "output_type": "stream", 
                    "name": "stdout", 
                    "text": "------------------------------------  -----------------------  ------  --------------  ------------------------  ---------\nGUID                                  NAME                     TYPE    STATE           CREATED                   FRAMEWORK\n7c61eb7b-d9b3-425d-be32-e97fcbbd2036  Iris species prediction  online  DEPLOY_SUCCESS  2018-04-16T11:13:49.463Z  pmml-4.2\nc57dbc5c-81db-4b36-94a0-08933935dd86  Iris species prediction  online  DEPLOY_SUCCESS  2018-04-16T10:39:25.363Z  pmml-4.2\nfe5e3c56-925f-4cdc-83a6-2b81da7cb421  Iris species prediction  online  DEPLOY_SUCCESS  2018-04-16T11:14:13.093Z  pmml-4.2\n------------------------------------  -----------------------  ------  --------------  ------------------------  ---------\n"
                }
            ], 
            "source": "wml_client.deployments.list()"
        }, 
        {
            "source": "**Note:** From the list of deployed models, you can see that model was  successfully created.", 
            "cell_type": "markdown", 
            "metadata": {}
        }, 
        {
            "source": "### 3.3. Score data<a id=\"score\"></a>", 
            "cell_type": "markdown", 
            "metadata": {}
        }, 
        {
            "source": "Send a sample record using the Python API client to check that the online scoring endpoint is available.", 
            "cell_type": "markdown", 
            "metadata": {}
        }, 
        {
            "execution_count": 48, 
            "cell_type": "code", 
            "metadata": {}, 
            "outputs": [
                {
                    "output_type": "stream", 
                    "name": "stdout", 
                    "text": "https://ibm-watson-ml.mybluemix.net/v3/wml_instances/0c748ad9-d4fc-441e-9b48-a6f5bf9e18d7/published_models/f74a8ee1-09b6-4d89-856e-f4bab431a0ef/deployments/fe5e3c56-925f-4cdc-83a6-2b81da7cb421/online\n"
                }
            ], 
            "source": "# Verify the online scoring endpoint.\nmodel_scoring_url = wml_client.deployments.get_scoring_url(model_deployment)\n\nprint(model_scoring_url)"
        }, 
        {
            "source": "You can see that the endpoint url is available for sending scoring requests.\n\nNow, you can score data and predict the species of iris flower.", 
            "cell_type": "markdown", 
            "metadata": {}
        }, 
        {
            "execution_count": 51, 
            "cell_type": "code", 
            "metadata": {}, 
            "outputs": [
                {
                    "output_type": "stream", 
                    "name": "stdout", 
                    "text": "https://ibm-watson-ml.mybluemix.net/v3/wml_instances/0c748ad9-d4fc-441e-9b48-a6f5bf9e18d7/published_models/f74a8ee1-09b6-4d89-856e-f4bab431a0ef/deployments/fe5e3c56-925f-4cdc-83a6-2b81da7cb421/online\n{'values': [['setosa', 1.0]], 'fields': ['PredictedValue', 'Confidence']}\n"
                }
            ], 
            "source": "# Score data and predict species of flower.\nscoring_data = {'fields': ['Sepal.Length', 'Sepal.Width', 'Petal.Length', 'Petal.Width'], 'values': [[5.1, 3.5, 1.4, 0.2]]}\npredictions = wml_client.deployments.score(model_scoring_url, scoring_data) \n\nprint(model_scoring_url)\nprint(predictions)"
        }, 
        {
            "source": "As we can see from the prediction, this is the Iris Setosa flower.", 
            "cell_type": "markdown", 
            "metadata": {}
        }, 
        {
            "source": "<a id=\"summary\"></a>\n## 4. Summary and next steps     ", 
            "cell_type": "markdown", 
            "metadata": {
                "collapsed": true
            }
        }, 
        {
            "source": "You successfully completed this notebook! You learned how to use Watson Machine Learning for PMML model deployment and scoring. \n\nCheck out our [documentation](https://dataplatform.ibm.com/docs/content/analyze-data/wml-setup.html) for more samples, tutorials, documentation, how-tos, and blog posts. ", 
            "cell_type": "markdown", 
            "metadata": {
                "collapsed": true
            }
        }, 
        {
            "source": "### Citations\n\nDua, D. and Karra Taniskidou, E. (2017). [UCI Machine Learning Repository](http://archive.ics.uci.edu/ml). Irvine, CA: University of California, School of Information and Computer Science.\n", 
            "cell_type": "markdown", 
            "metadata": {}
        }, 
        {
            "source": "### Authors\n\n**Wojciech Sobala** is a Data Scientist in IBM.", 
            "cell_type": "markdown", 
            "metadata": {}
        }, 
        {
            "source": "Copyright \u00a9 2018 IBM. This notebook and its source code are released under the terms of the MIT License.", 
            "cell_type": "markdown", 
            "metadata": {}
        }, 
        {
            "source": "<div style=\"background:#F5F7FA; height:100px; padding: 2em; font-size:14px;\">\n<span style=\"font-size:18px;color:#152935;\">Want to do more?</span><span style=\"border: 1px solid #3d70b2;padding: 15px;float:right;margin-right:40px; color:#3d70b2; \"><a href=\"https://ibm.co/wsnotebooks\" target=\"_blank\" style=\"color: #3d70b2;text-decoration: none;\">Sign Up</a></span><br>\n<span style=\"color:#5A6872;\"> Try out this notebook with your free trial of IBM Watson Studio.</span>\n</div>", 
            "cell_type": "markdown", 
            "metadata": {}
        }
    ], 
    "metadata": {
        "kernelspec": {
            "display_name": "Python 3.5", 
            "name": "python3", 
            "language": "python"
        }, 
        "language_info": {
            "mimetype": "text/x-python", 
            "nbconvert_exporter": "python", 
            "version": "3.5.4", 
            "name": "python", 
            "file_extension": ".py", 
            "pygments_lexer": "ipython3", 
            "codemirror_mode": {
                "version": 3, 
                "name": "ipython"
            }
        }
    }, 
    "nbformat": 4
}
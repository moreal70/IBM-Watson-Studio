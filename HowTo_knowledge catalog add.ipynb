{
    "nbformat_minor": 1, 
    "cells": [
        {
            "source": "# Watson knowledge Catalog \uc5d0 object \ucd94\uac00\ud558\uae30 \n\n* [Watson Knowledge Catalog](https://console.bluemix.net/catalog/services/knowledge-catalog) \ub294 \uae30\uc874\uc758 Data Catalog\uc5d0\uc11c \uc0c8\ub86d\uac8c \uae30\ub2a5\uc774 \ud655\uc7a5\ub418\uc5b4 \ud0c4\uc0dd\ud55c \uc11c\ube44\uc2a4\uc785\ub2c8\ub2e4.  \n* \uc5ec\uae30\uc5d0 \ub2e4\uc591\ud55c \uc720\ud615\uc758 object \ub4e4\uc744 \ucd94\uac00\ud560\uc218 \uc788\ub294\ub370, \uadf8 \uc808\ucc28\uc5d0 \ub300\ud55c \uc124\uba85\uc785\ub2c8\ub2e4.\n* \uc774\ubbf8 catalog\ub97c \uc0dd\uc131\ud588\uc74c\uc744 \uac00\uc815\ud558\uace0,  \uc5ec\uae30\uc5d0 Object \ub97c \ucd94\uac00\ud558\ub294 \uacfc\uc815\uc744 \uc2dc\uc791\ud569\ub2c8\ub2e4. ", 
            "cell_type": "markdown", 
            "metadata": {}
        }, 
        {
            "source": "### \uc544\ub798 \ud654\uba74\uc5d0\uc11c \ucc98\ub7fc \"add to catalog\" \ub97c \ud074\ub9ad\ud558\uba74 3\uac00\uc9c0 \uc720\ud615\uc758 \uc11c\ube0c\uba54\ub274\uac00 \ub098\uc635\ub2c8\ub2e4. \n** Local file** : \ub098\uc758 desktop\uc5d0 \uc788\ub294 \ud654\uc77c\uc744 \ub4f1\ub85d\ud558\uace0\uc790 \ud560\ub54c     \n** Connected data**  : Connection \uc774 \uc774\ubbf8 \uc0dd\uc131\ub418\uc5b4 \uc788\ub294 \uacbd\uc6b0, \ud574\ub2f9 connection \uc5d0\uc11c asset \uc744 discovery \ud558\uc5ec \ub4f1\ub85d\ud558\uace0\uc790 \ud560\ub54c     \n** Connection** : \uc0c8\ub85c\uc6b4 \uc720\ud611\uc758 data connection\uc744 \uc0dd\uc131\ud558\uc5ec \ub4f1\ub85d\ud558\uace0\uc790 \ud560\ub54c     \n![screen](https://github.com/moreal70/IBM-Watson-Studio/raw/master/images/knowledge_catalog_add1.png)      ", 
            "cell_type": "markdown", 
            "metadata": {}
        }, 
        {
            "source": "### 1. Local Files \n\n*Select files - Browse* \uba54\ub274\ub97c \uc774\uc6a9\ud558\uba74 windows \ud654\uc77c \ud0d0\uc0c9\uae30\uac00 \ub728\uba74\uc11c \uc6d0\ud558\ub294 \ud654\uc77c\uc744 \uc9c0\uc815\ud560 \uc218 \uc788\uc2b5\ub2c8\ub2e4.\n![screen](https://github.com/moreal70/IBM-Watson-Studio/raw/master/images/knowledge_catalog_add2.png) ", 
            "cell_type": "markdown", 
            "metadata": {}
        }, 
        {
            "source": "### 2. Connections \n\n* \uc57d 40\uc5ec\uac1c\uc758 \ub370\uc774\ud130 \uc720\ud615\uc744 \ucd94\uac00 \uac00\ub2a5\ud558\uba70,  IBM service\uc640 3rd party \uc81c\ud488 \uad70\uc73c\ub85c \uad6c\ubd84\ub429\ub2c8\ub2e4.\n* IBM service \uc5d0\uc11c\ub3c4 IBM Cloud \uc81c\ud488\uad70\uacfc on-premise \uc81c\ud488\uad70\uc73c\ub85c \ub098\ub204\uc5b4\uc9c0\ub294\ub370, \uc774\ub294 icon \ubaa8\uc591\uc73c\ub85c \uad6c\ubd84\uc774 \uac00\ub2a5\ud569\ub2c8\ub2e4.\n* 3rd Party \uc81c\ud488\uad70 \uc911\uc5d0\ub294 Amazon AWS, MS Azure \uc81c\ud488\uad70\ub3c4 \ud3ec\ud568\ub429\ub2c8\ub2e4.\n![screen](https://github.com/moreal70/IBM-Watson-Studio/raw/master/images/knowledge_catalog_add3.png) ", 
            "cell_type": "markdown", 
            "metadata": {}
        }, 
        {
            "source": "### 2. Connections - Db2 on cloud \uc608\uc2dc \n\n* Db2 on Cloud \ub97c \uc120\ud0dd\ud558\uace0 \ub4e4\uc5b4\uac00\uba74,  \uc77c\ubc18\uc801\uc778 RDBMS connection \uc815\ubcf4\ub97c \ub123\ub3c4\ub85d \ub418\uc5b4 \uc788\uc2b5\ub2c8\ub2e4.\n![screen](https://github.com/moreal70/IBM-Watson-Studio/raw/master/images/knowledge_catalog_add4.png) ", 
            "cell_type": "markdown", 
            "metadata": {}
        }, 
        {
            "source": "### 2. Connections - Db2 on cloud \uc608\uc2dc \n\n* IBM Cloud \uc5d0\uc11c \uc0dd\uc131\ub41c \uc11c\ube44\uc2a4 \uc778\uc2a4\ud134\uc2a4\ub77c\uba74, \uc544\ub798\uc640 \uac19\uc774 [IBM Cloud my data board](https://console.bluemix.net/dashboard/apps) \uc5d0\uc11c Db2 on CLoud \ub97c \uc120\ud0dd\ud558\uace0\n* Open console \uba54\ub274\ub97c \ud074\ub9ad\ud569\ub2c8\ub2e4. \n![screen](https://github.com/moreal70/IBM-Watson-Studio/raw/master/images/knowledge_catalog_add5.png) ", 
            "cell_type": "markdown", 
            "metadata": {}
        }, 
        {
            "source": "### 2. Connections - Db2 on cloud \uc608\uc2dc \n\n* Db2 admin console \ub85c \ub4e4\uc5b4\uac00\uba74 connection info \uba54\ub274\uc5d0\uc11c connection \uc815\ubcf4\ub97c \ud655\uc778\ud560 \uc218 \uc788\uc2b5\ub2c8\ub2e4.\n* \uad00\ub828 \uc815\ubcf4\ub97c \ucc98\uc74c\uc5d0 Knowledge catalog \uc5d0 \uc785\ub825\ud558\uace0 \ucd94\uac00\ud569\ub2c8\ub2e4. \n![screen](https://github.com/moreal70/IBM-Watson-Studio/raw/master/images/knowledge_catalog_add6.png) ", 
            "cell_type": "markdown", 
            "metadata": {}
        }, 
        {
            "source": "### 3. Connected Data  \n\n* \uc6b0\uc120 \uba3c\uc800 connection \uc18c\uc2a4\ub97c \uc120\ud0dd\ud569\ub2c8\ub2e4. \n* \uc989 \ubbf8\ub9ac \ub9cc\ub4e4\uc5b4\uc838 \uc788\ub294 connection \uc5d0\uc11c \uc138\ubd80 \ub370\uc774\ud130\ub97c \uc9c0\uc815\ud55c\ub2e4\ub294 \uc758\ubbf8\uc785\ub2c8\ub2e4.\n![screen](https://github.com/moreal70/IBM-Watson-Studio/raw/master/images/knowledge_catalog_add7.png) ", 
            "cell_type": "markdown", 
            "metadata": {}
        }, 
        {
            "source": "### 3. Connected Data  \n\n* \uc544\ub798 \ud654\uba74\uc758 \uc608\uc2dc\ub294 Db2 warehouse\ub85c \uc815\uc758\ub41c connection \uc744 \uc774\uc6a9\ud55c \uc608\uc2dc \uc785\ub2c8\ub2e4.\n![screen](https://github.com/moreal70/IBM-Watson-Studio/raw/master/images/knowledge_catalog_add8.png) ", 
            "cell_type": "markdown", 
            "metadata": {}
        }, 
        {
            "source": "### * My catalog \uc608\uc2dc\n* \ud654\uba74 \uc67c\ucabd\uc5d0\uc11c  catalog asset \uc758 \uc720\ud615 \ubc0f Tag \ubcc4\ub85c filtering \uc774 \uac00\ub2a5\ud569\ub2c8\ub2e4.\n* notebook, data asset, connection \ub4f1\uc774 \uad00\ub9ac \ub300\uc0c1\uc774 \ub429\ub2c8\ub2e4.\n![screen](https://github.com/moreal70/IBM-Watson-Studio/raw/master/images/knowledge_catalog_add9.png) ", 
            "cell_type": "markdown", 
            "metadata": {}
        }
    ], 
    "metadata": {
        "kernelspec": {
            "display_name": "Python 3.5", 
            "name": "python3", 
            "language": "python"
        }, 
        "language_info": {
            "mimetype": "text/x-python", 
            "nbconvert_exporter": "python", 
            "version": "3.5.4", 
            "name": "python", 
            "file_extension": ".py", 
            "pygments_lexer": "ipython3", 
            "codemirror_mode": {
                "version": 3, 
                "name": "ipython"
            }
        }
    }, 
    "nbformat": 4
}

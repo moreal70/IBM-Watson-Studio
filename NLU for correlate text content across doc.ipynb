{
    "nbformat_minor": 1, 
    "cells": [
        {
            "source": "# NLU for correlate text content across documents\n\n* ***\uc6d0\ubcf8 \uc18c\uc2a4\ub294 community \uc5d0\uc11c \uac00\uc838\uc654\uc2b5\ub2c8\ub2e4.***\n* ***\ub450\uad70\ub370 \uc218\uc815\uc774 \ud544\uc694\ud55c\ub370,,,   python 3 \uc5d0\uc11c \uc0dd\uae30\ub294 \ubb38\uc81c\uc785\ub2c8\ub2e4.***\n* ***1. print \ubb38\uc5d0 () \ub123\uae30***\n* ***2. text1.decode('utf8')   - TypeError: can't use a string pattern on a bytes-like object ***", 
            "cell_type": "markdown", 
            "metadata": {
                "collapsed": true
            }
        }, 
        {
            "source": "* ***NLU (Natural Language Understanding) \uc11c\ube44\uc2a4\ub97c \uc0dd\uc131\ud558\uace0 \uc544\ub798 \ud654\uba74\uc5d0\uc11c \ucc98\ub7fc credential \uc744 \uac00\uc838\uc635\ub2c8\ub2e4. ***\n* ***\ub9cc\uc57d credential \uc774 \uc5c6\ub2e4\uba74 \uc0c8\ub85c \uc0dd\uc131\ud569\ub2c8\ub2e4.***     \n![#1](https://github.com/moreal70/IBM-Watson-Studio/raw/master/images/nlu_credential.png)", 
            "cell_type": "markdown", 
            "metadata": {}
        }, 
        {
            "source": "Text analytics involves getting insights from text content in documents, books, social media, and various other sources. A common requirement is to find the correlation of text content across sources to get a comprehensive picture. This notebook uses Watson Natural Language Understanding (NLU), and Python Natural Language Processing Toolkit (NLTK) in IBM Watson Studio to build a graph of entities with attributes, and uses its relationship with other entities to correlate text content across various sources. The correlation algorithm used in this notebook is driven by an input configuration JSON file that contains the rules and grammar for building the relations. ", 
            "cell_type": "markdown", 
            "metadata": {}
        }, 
        {
            "source": "1. [The story](#background)<br>\n2. [Setup](#setup)<br>\n    2.1 [Install required packages](#setup1)<br>\n    2.2 [Import packages and libraries](#setup2)<br>\n3. [Load Configuration](#conf)<br>\n    3.1 [Add your service Natural Language Classifier credentials](#conf1)<br>\n    3.2 [Add Data](#conf2)<br>\n    3.3 [Add your service credentials for Object Storage](#conf3)<br>\n    3.4 [Global Variables](#conf4)<br>\n    3.5 [Configure and download required NLTK packages](#conf5)<br>\n4. [Correlation](#corr)<br>\n    4.1 [Watson NLU API](#corr1)<br>\n    4.2 [Augumented Correlation](#corr2)<br>\n    4.3 [Correlated Network Visualization](#corr3)<br>\n5. [Read Data](#store)<br>\n    5.1 [Configure Object Storage Client](#store1)<br>\n    5.2 [Get Data](#store2)<br>\n6. [Correlate text](#corr-text)<br>\n7. [Visualize correlated text](#vis)<br>   ", 
            "cell_type": "markdown", 
            "metadata": {}
        }, 
        {
            "source": "<a id='background'></a>\n## The story\nIt is important to correlate the text content across documents in order to obtain actionable insights. In this notebook, we are showing you a methodology to correlate the text content across documents in a configurable way.\n\nThe correlation algorithm is driven by an input configuration JSON file that contains the rules and grammar for building the relations. This JSON configuration file can be prepared by a domain expert and can be modified in order to obtain better correlation results between the text content across documents. The configuration and input documents are stored in IBM Object Storage.", 
            "cell_type": "markdown", 
            "metadata": {}
        }, 
        {
            "source": "### The configuration file\nLet's look at the input configuration file required by the algorithm.\n\nThe input configuration file is divided into two categories: \n1. coreference, and\n2. relations.\n\nIn the `coreference` section, we specify the patterns to identify all the personal pronouns and the proper noun names in the text content. In the `relations` section, we specify regular expression patterns that can be used to infer the relationship between entities.\n\nHere is what part of the configuration file looks like:\n\n```\n{\n  \"configuration\": {\n    \"coreference\": {\n      \"rules\": [\n        {\n          \"type\": \"chunking\",\n          \"chunk\": [\n            {\n              \"tag\": \"PRP\",\n              \"type\": \"coreference\",\n              \"pattern\": \"PRP:{<PRP>+}\"\n            },\n            {\n              \"tag\": \"NAME\",\n              \"type\": \"reference\",\n              \"pattern\": \"NAME:{<NNP>+}\"\n            }\n          ]\n        }\n      ]\n    },\n    \"relations\": {\n      \"rules\": [\n        {\n          \"type\": \"d_regex\",\n          \"d_regex\": [\n            {\n              \"tag\": \"BornAt\",\n              \"pattern\": \".*(<Person:.*?>).*(born|born at| born in).*(<Location:.*?>).*\"\n            }\n          ]\n        },\n```", 
            "cell_type": "markdown", 
            "metadata": {}
        }, 
        {
            "source": "### Example\nLet's take one example to understand how it works.\n\n#### The bornAt relationship \nFor the bornAt relationship, the regular expression pattern that is specified is if a person is followed by `born` or `born at` or `born in`, and then is followed by a location then we infer that it is a bornAt relationship between the person and the location.\n\n#### Text categorization\nThe text categorization such as person or location is obtained from the pattern natural language understanding. \n\n#### Relationships\nSimilarly, we have specified the different regular expression patterns to identify the relationships that we are \ninterested in in the text content.\n", 
            "cell_type": "markdown", 
            "metadata": {}
        }, 
        {
            "source": "### The input documents we want to analyze\nTo demonstrate the output from the algorithm we have selected two documents: \n1. The first document contains information about the former president of the United States, Barack Hussein Obama. \n2. The second document contains information about Michelle Obama. \n\nNow let's set up our environment so that we can look at the output from the correlational algorithm based on the input configuration file that we have specified.\n", 
            "cell_type": "markdown", 
            "metadata": {}
        }, 
        {
            "source": "<a id='setup'></a>\n## 2. Setup\n\n<a id='setup1'></a>\n### 2.1 Install required packages \n\nYou need the latest versions of these packages:<br>\n- **Watson Developer Cloud**: a client library for Watson services.<br>\n- **NLTK**: leading platform for building Python programs to work with human language data.<br>\n\n** Install the Watson Developer Cloud package: **", 
            "cell_type": "markdown", 
            "metadata": {}
        }, 
        {
            "execution_count": 4, 
            "cell_type": "code", 
            "metadata": {}, 
            "outputs": [
                {
                    "output_type": "stream", 
                    "name": "stdout", 
                    "text": "Requirement already up-to-date: watson-developer-cloud in /opt/conda/envs/DSX-Python35/lib/python3.5/site-packages\nRequirement not upgraded as not directly required: python-dateutil>=2.5.3 in /opt/conda/envs/DSX-Python35/lib/python3.5/site-packages (from watson-developer-cloud)\nRequirement not upgraded as not directly required: requests<3.0,>=2.0 in /opt/conda/envs/DSX-Python35/lib/python3.5/site-packages (from watson-developer-cloud)\nRequirement not upgraded as not directly required: autobahn>=0.10.9 in /opt/conda/envs/DSX-Python35/lib/python3.5/site-packages (from watson-developer-cloud)\nRequirement not upgraded as not directly required: Twisted>=13.2.0 in /opt/conda/envs/DSX-Python35/lib/python3.5/site-packages (from watson-developer-cloud)\nRequirement not upgraded as not directly required: service-identity>=17.0.0 in /opt/conda/envs/DSX-Python35/lib/python3.5/site-packages (from watson-developer-cloud)\nRequirement not upgraded as not directly required: pyOpenSSL>=16.2.0 in /opt/conda/envs/DSX-Python35/lib/python3.5/site-packages (from watson-developer-cloud)\nRequirement not upgraded as not directly required: six>=1.5 in /opt/conda/envs/DSX-Python35/lib/python3.5/site-packages (from python-dateutil>=2.5.3->watson-developer-cloud)\nRequirement not upgraded as not directly required: chardet<3.1.0,>=3.0.2 in /opt/conda/envs/DSX-Python35/lib/python3.5/site-packages (from requests<3.0,>=2.0->watson-developer-cloud)\nRequirement not upgraded as not directly required: idna<2.7,>=2.5 in /opt/conda/envs/DSX-Python35/lib/python3.5/site-packages (from requests<3.0,>=2.0->watson-developer-cloud)\nRequirement not upgraded as not directly required: urllib3<1.23,>=1.21.1 in /opt/conda/envs/DSX-Python35/lib/python3.5/site-packages (from requests<3.0,>=2.0->watson-developer-cloud)\nRequirement not upgraded as not directly required: certifi>=2017.4.17 in /opt/conda/envs/DSX-Python35/lib/python3.5/site-packages (from requests<3.0,>=2.0->watson-developer-cloud)\nRequirement not upgraded as not directly required: txaio>=2.10.0 in /opt/conda/envs/DSX-Python35/lib/python3.5/site-packages (from autobahn>=0.10.9->watson-developer-cloud)\nRequirement not upgraded as not directly required: Automat>=0.3.0 in /opt/conda/envs/DSX-Python35/lib/python3.5/site-packages (from Twisted>=13.2.0->watson-developer-cloud)\nRequirement not upgraded as not directly required: incremental>=16.10.1 in /opt/conda/envs/DSX-Python35/lib/python3.5/site-packages (from Twisted>=13.2.0->watson-developer-cloud)\nRequirement not upgraded as not directly required: zope.interface>=4.0.2 in /opt/conda/envs/DSX-Python35/lib/python3.5/site-packages (from Twisted>=13.2.0->watson-developer-cloud)\nRequirement not upgraded as not directly required: constantly>=15.1 in /opt/conda/envs/DSX-Python35/lib/python3.5/site-packages (from Twisted>=13.2.0->watson-developer-cloud)\nRequirement not upgraded as not directly required: hyperlink>=17.1.1 in /opt/conda/envs/DSX-Python35/lib/python3.5/site-packages (from Twisted>=13.2.0->watson-developer-cloud)\nRequirement not upgraded as not directly required: pyasn1 in /opt/conda/envs/DSX-Python35/lib/python3.5/site-packages (from service-identity>=17.0.0->watson-developer-cloud)\nRequirement not upgraded as not directly required: attrs in /opt/conda/envs/DSX-Python35/lib/python3.5/site-packages (from service-identity>=17.0.0->watson-developer-cloud)\nRequirement not upgraded as not directly required: pyasn1-modules in /opt/conda/envs/DSX-Python35/lib/python3.5/site-packages (from service-identity>=17.0.0->watson-developer-cloud)\nRequirement not upgraded as not directly required: cryptography>=1.9 in /opt/conda/envs/DSX-Python35/lib/python3.5/site-packages (from pyOpenSSL>=16.2.0->watson-developer-cloud)\nRequirement not upgraded as not directly required: setuptools in /opt/conda/envs/DSX-Python35/lib/python3.5/site-packages (from zope.interface>=4.0.2->Twisted>=13.2.0->watson-developer-cloud)\nRequirement not upgraded as not directly required: asn1crypto>=0.21.0 in /opt/conda/envs/DSX-Python35/lib/python3.5/site-packages (from cryptography>=1.9->pyOpenSSL>=16.2.0->watson-developer-cloud)\nRequirement not upgraded as not directly required: cffi>=1.7 in /opt/conda/envs/DSX-Python35/lib/python3.5/site-packages (from cryptography>=1.9->pyOpenSSL>=16.2.0->watson-developer-cloud)\nRequirement not upgraded as not directly required: pycparser in /opt/conda/envs/DSX-Python35/lib/python3.5/site-packages (from cffi>=1.7->cryptography>=1.9->pyOpenSSL>=16.2.0->watson-developer-cloud)\n"
                }
            ], 
            "source": "!pip install  --upgrade watson-developer-cloud"
        }, 
        {
            "source": "** Install NLTK: **", 
            "cell_type": "markdown", 
            "metadata": {}
        }, 
        {
            "execution_count": 3, 
            "cell_type": "code", 
            "metadata": {}, 
            "outputs": [
                {
                    "output_type": "stream", 
                    "name": "stdout", 
                    "text": "Requirement already up-to-date: nltk in /opt/conda/envs/DSX-Python35/lib/python3.5/site-packages\nRequirement not upgraded as not directly required: six in /opt/conda/envs/DSX-Python35/lib/python3.5/site-packages (from nltk)\n"
                }
            ], 
            "source": "!pip install --upgrade nltk"
        }, 
        {
            "source": "** <font color=blue>Now restart the kernel by choosing Kernel > Restart. </font> **", 
            "cell_type": "markdown", 
            "metadata": {}
        }, 
        {
            "source": "<a id='setup2'></a>\n### 2.2 Import packages and libraries\n\n* ***python 3 \ubc84\uc804\uc5d0\uc11c\ub294 thread \ubaa8\ub4c8 \uc774\ub984\uc774 \ubc14\ub00c\uc5c8\ub124\uc694.***    \uc218\uc815  _thread", 
            "cell_type": "markdown", 
            "metadata": {}
        }, 
        {
            "execution_count": 6, 
            "cell_type": "code", 
            "metadata": {
                "scrolled": true
            }, 
            "outputs": [], 
            "source": "import json\nimport sys\nimport _thread\nimport time\nimport watson_developer_cloud\nfrom watson_developer_cloud import NaturalLanguageUnderstandingV1\nfrom watson_developer_cloud.natural_language_understanding_v1 \\\n  import Features, EntitiesOptions, KeywordsOptions,SemanticRolesOptions\n    \nimport ibm_boto3\nfrom botocore.client import Config\n    \nimport operator\nfrom functools import reduce\nfrom io import StringIO\nimport numpy as np\nfrom os.path import join, dirname\nimport requests\nimport re\nimport pandas as pd\nimport nltk\nfrom nltk.cluster.util import cosine_distance\nfrom nltk import word_tokenize,sent_tokenize,ne_chunk\nfrom nltk.corpus import stopwords\nimport networkx as nx\nimport matplotlib.pyplot as plt\nimport numpy"
        }, 
        {
            "source": "<a id='conf'></a>\n## 3. Configuration\n\n\n<a id='conf1'></a>\n### 3.1 Add your service Natural Language Classifier credentials\n\n1. Retrieve your Watson Natural Language Understanding (NLU) credentials by going to **Services -> Watson Services** in the main tool bar. If you don't already have an NLU instance, click on **Add Service** and select **Natural Language Classifier**.\n\n2. Once you have the NLU service provisioned, click on credentials. Your credentials will have the following format:\n```{\n     \"url\": \"https://gateway.watsonplatform.net/natural-language-understanding/api\",\n     \"username\": \"<your username>\",\n     \"password\": \"<your password>\",\n}\n```\n\n3. Insert the username and password values for your NLU in the following cell. Do not change the values of the version fields.\n\nRun the cell.", 
            "cell_type": "markdown", 
            "metadata": {}
        }, 
        {
            "execution_count": 9, 
            "cell_type": "code", 
            "metadata": {}, 
            "outputs": [], 
            "source": "natural_language_understanding = NaturalLanguageUnderstandingV1(\n    version='2017-02-27',\n    username=\"xb5fbe544-8177-44d9-a049-b6c7a3150839x\",    # masking \ub41c \uac83\uc784, \ubcf8\uc778 \uac83\uc73c\ub85c \uc218\uc815 \uc694\ub9dd\n    password=\"ypE4YQSAVbvi\")"
        }, 
        {
            "source": "<a id='conf3'></a>\n### 3.2 Add Data\n", 
            "cell_type": "markdown", 
            "metadata": {}
        }, 
        {
            "source": "\nAdd the data and configuration files to the notebook.\n\n1. Go to <a href=\"https://github.com/IBM/watson-document-co-relation\" target=\"_blank\" rel=\"noopener noreferrer\">watson-document-co-relation</a>, and\n - navigate to the `/data/` directory and download `sample_text_1.txt` and `sample_text_2.txt`, \n - navigate to `/configuration/` and download `sample_config.txt`.\n\n  **Note:** It is possible to use your own data and configuration files. If you use a configuration file from your computer, make sure to conform to the JSON structure given in configuration/sample_config.txt\n  \n2. Load the data files to the notebook by clicking the **Data** button on the notebook action bar. Drag and drop the file into the box or click browse to select the file from your directory. The file is loaded to your object storage and also appears in the Data Assets section of your project.\n\n    \n    \n", 
            "cell_type": "markdown", 
            "metadata": {}
        }, 
        {
            "source": "<a id='conf2'></a>\n### 3.3 Add your service credentials for Object Storage\n\nTo access data in a file in IBM Cloud Object Storage, you need the Object Storage authentication credentials. \n\nTo insert your credentials: \n1. Click on the empty cell below.\n2. Select the **Data** tab to display the files you uploaded to your project.\n3. Select **Insert to code -> Insert Credentials** that you see just below one of your files for this project. This will insert your credentials.\n4. Ensure that the credentials are saved as `credentials_1`.\n5. Run the cell.\n", 
            "cell_type": "markdown", 
            "metadata": {}
        }, 
        {
            "execution_count": 18, 
            "cell_type": "code", 
            "metadata": {}, 
            "outputs": [], 
            "source": "# The code was removed by DSX for sharing."
        }, 
        {
            "source": "<a id='conf4'></a>\n### 3.4 Global Variables\n\nLet's define some global variables. Again, note that if you've used your own data and configuration files, you'll want to ensure the file names below are replaced with the filenames you've chosen to import.\n", 
            "cell_type": "markdown", 
            "metadata": {}
        }, 
        {
            "execution_count": 19, 
            "cell_type": "code", 
            "metadata": {}, 
            "outputs": [
                {
                    "output_type": "stream", 
                    "name": "stdout", 
                    "text": "[nltk_data] Downloading package stopwords to\n[nltk_data]     /home/dsxuser/nltk_data...\n[nltk_data]   Package stopwords is already up-to-date!\n"
                }
            ], 
            "source": "# Specify file  for sample text and configuration files\nsampleTextFileName1 = \"sample_text_1.txt\"\nsampleTextFileName2 = \"sample_text_2.txt\"\nsampleConfigFileName = \"sample_config.txt\"\n\n# Maintain tagged text and plain text map\ntagTextMap ={}\n\n# Stop words\nnltk.download('stopwords')\nstopWords = stopwords.words('english')\n# Additional words to be ignored \nstopWords.extend([\"The\",\"This\",\"That\",\".\",\"!\",\"?\"])"
        }, 
        {
            "source": "<a id='conf5'></a>\n### 3.5 Configure and download required NLTK packages\n\nDownload the 'punkt' and 'averaged_perceptron_tagger' NLTK packages for POS tagging usage.", 
            "cell_type": "markdown", 
            "metadata": {}
        }, 
        {
            "execution_count": 20, 
            "cell_type": "code", 
            "metadata": {}, 
            "outputs": [
                {
                    "output_type": "stream", 
                    "name": "stdout", 
                    "text": "[nltk_data] Downloading package punkt to /home/dsxuser/nltk_data...\n[nltk_data]   Package punkt is already up-to-date!\n[nltk_data] Downloading package averaged_perceptron_tagger to\n[nltk_data]     /home/dsxuser/nltk_data...\n[nltk_data]   Package averaged_perceptron_tagger is already up-to-\n[nltk_data]       date!\n[nltk_data] Downloading package maxent_ne_chunker to\n[nltk_data]     /home/dsxuser/nltk_data...\n[nltk_data]   Package maxent_ne_chunker is already up-to-date!\n[nltk_data] Downloading package words to /home/dsxuser/nltk_data...\n[nltk_data]   Package words is already up-to-date!\n"
                }
            ], 
            "source": "nltk.download('punkt')\nnltk.download('averaged_perceptron_tagger')\nnltk.download('maxent_ne_chunker')\nnltk.download('words')\n\nlemmatizer = nltk.WordNetLemmatizer()\nstemmer = nltk.stem.porter.PorterStemmer()"
        }, 
        {
            "source": "<a id='corr'></a>\n## 4. Correlation\n\nWrite the correlation related utility functions in a modularalized form.\n\n<a id='corr1'></a>\n### 4.1 Watson NLU API", 
            "cell_type": "markdown", 
            "metadata": {}
        }, 
        {
            "execution_count": 21, 
            "cell_type": "code", 
            "metadata": {
                "scrolled": true
            }, 
            "outputs": [], 
            "source": "# Analyze features of natural language content.\n\ndef analyze_using_NLU(analysistext):\n    response = natural_language_understanding.analyze( \n        text=analysistext,\n        features=Features(entities=EntitiesOptions(), \n                          keywords=KeywordsOptions(),\n                          semantic_roles=SemanticRolesOptions()))\n\n    return response"
        }, 
        {
            "source": "<a id='corr2'></a>\n### 4.2 Augumented Correlation\n\nCustom correlation utlity functions for augumenting the results of Watson NLU API call.", 
            "cell_type": "markdown", 
            "metadata": {}
        }, 
        {
            "execution_count": 22, 
            "cell_type": "code", 
            "metadata": {}, 
            "outputs": [], 
            "source": "def split_sentences(text):\n    \"\"\" Split text into sentences.\n    \"\"\"\n    sentence_delimiters = re.compile(u'[\\\\[\\\\]\\n.!?]')\n    sentences = sentence_delimiters.split(text)\n    return sentences\n\ndef split_into_tokens(text):\n    \"\"\" Split text into tokens.\n    \"\"\"\n    tokens = nltk.word_tokenize(text)\n    return tokens\n    \ndef POS_tagging(text):\n    \"\"\" Generate Part of speech tagging of the text.\n    \"\"\"\n    POSofText = nltk.tag.pos_tag(text)\n    return POSofText\n\ndef keyword_tagging(tag,tagtext,text):\n    \"\"\" Tag the text matching keywords.\n    \"\"\"\n    if (text.lower().find(tagtext.lower()) != -1):\n        return text[text.lower().find(tagtext.lower()):text.lower().find(tagtext.lower())+len(tagtext)]\n    else:\n        return 'UNKNOWN'\n    \ndef regex_tagging(tag,regex,text):\n    \"\"\" Tag the text matching REGEX.\n    \"\"\"    \n    p = re.compile(regex, re.IGNORECASE)\n    matchtext = p.findall(text)\n    regex_list=[]    \n    if (len(matchtext)>0):\n        for regword in matchtext:\n            regex_list.append(regword)\n    return regex_list\n\ndef chunk_tagging(tag,chunk,text):\n    \"\"\" Tag the text using chunking.\n    \"\"\"\n    parsed_cp = nltk.RegexpParser(chunk)\n    pos_cp = parsed_cp.parse(text)\n    chunk_list=[]\n    for root in pos_cp:\n        if isinstance(root, nltk.tree.Tree):               \n            if root.label() == tag:\n                chunk_word = ''\n                for child_root in root:\n                    chunk_word = chunk_word +' '+ child_root[0]\n                chunk_list.append(chunk_word)\n    return chunk_list\n    \ndef augument_NLUResponse(responsejson,updateType,text,tag):\n    \"\"\" Update the NLU response JSON with augumented classifications.\n    \"\"\"\n    if(updateType == 'keyword'):\n        if not any(d.get('text', None) == text for d in responsejson['keywords']):\n            responsejson['keywords'].append({\"text\":text,\"relevance\":0.5})\n    else:\n        if not any(d.get('text', None) == text for d in responsejson['entities']):\n            responsejson['entities'].append({\"type\":tag,\"text\":text,\"relevance\":0.5,\"count\":1})        \n    \ndef chunk_sentence(text):\n    \"\"\" Tag the sentence using chunking.\n    \"\"\"\n    grammar = \"\"\"\n      NP: {<DT|JJ|PRP|NN.*>+} # Chunk sequences of DT,JJ,NN\n          #}<VB*|DT|JJ|RB|PRP><NN.*>+{  # Chink sequences of VB,DT,JJ,NN       \n      PP: {<IN><NP>}               # Chunk prepositions followed by NP\n      V: {<V.*>}                   # Verb      \n      VP: {<VB*><NP|PP|CLAUSE>+}  # Chunk verbs and their arguments\n      CLAUSE: {<NP><VP>}           # Chunk NP, VP\n      \"\"\"  \n    parsed_cp = nltk.RegexpParser(grammar,loop=2)\n    pos_cp = parsed_cp.parse(text)\n    return pos_cp\n    \ndef find_attrs(subtree,phrase):\n    attrs = ''\n    if phrase == 'NP':\n        for nodes in subtree:\n            if nodes[1] in ['DT','PRP$','POS','JJ','CD','ADJP','QP','NP','NNP']:\n                attrs = attrs+' '+nodes[0]\n    return attrs    \n    \ndef find_subject(t):\n    for s in t.subtrees(lambda t: t.label() == 'NP'):\n        return find_attrs(s,'NP')\n    \ndef resolve_coreference(text, config):\n    \"\"\" Resolve coreferences in the text for Nouns that are Subjects in a sentence\n    \"\"\"\n    sentenceList = split_sentences(text)\n    referenceSubject = ''\n    sentenceText = ''\n    configjson = json.loads(config)\n    \n    for sentences in sentenceList:    \n        tokens = split_into_tokens(sentences)   \n        postags = POS_tagging(tokens)\n        sentencetags = chunk_sentence(postags)\n        subjects = find_subject(sentencetags)\n        for rules in configjson['configuration']['coreference']['rules']:\n            if (rules['type'] == 'chunking'):\n                for tags in rules['chunk']:\n                    chunktags = chunk_tagging(tags['tag'],tags['pattern'],postags)\n                    if (len(chunktags)>0):\n                        for words in chunktags:\n                            if tags['tag'] == 'PRP':\n                                if subjects == '':\n                                    sentenceText = sentenceText+sentences.replace(words,referenceSubject)+'. '\n                            elif tags['tag'] == 'NAME':\n                                if words == subjects:\n                                    referenceSubject = words\n                                    sentenceText = sentenceText+sentences+'. '\n                    \n    return sentenceText\n\ndef disambiguate_entities(text):\n    \"\"\" Resolve disambiguity in the text using entities and entity resolution performed using Watson NLU\n    \"\"\"    \n    sentenceList = split_sentences(text)\n    taggedtext = text\n    response = analyze_using_NLU(text)\n    responsejson = response\n    for sentences in sentenceList:\n        tokens = split_into_tokens(sentences)\n        postags = POS_tagging(tokens)\n        name_tagged_text = chunk_tagging('NAME','NAME:{<NNP>+}',postags)\n        print(name_tagged_text)\n    for entities in responsejson['entities']:\n        regexstr = entities['text']+'(?!>)'\n        regex = re.compile(regexstr, re.IGNORECASE)\n        tagText = '<'+entities['type']+':'+entities['text']+'>'\n        taggedtext = re.sub(regexstr,tagText,taggedtext)\n        tagTextMap[tagText] = entities['text']\n    \n    for roles in responsejson['semantic_roles']:\n        if 'entities' not in roles['subject']:\n            print('NO ENTITY')\n        else:\n            for entity in roles['subject']['entities']:\n                if 'disambiguation' not in entity:\n                    print('NO DISAMBIGUATION')\n                else:\n                    regexstr = roles['subject']['text']+'(?!>)'\n                    regex = re.compile(regexstr, re.IGNORECASE)\n                    tagText = '<'+entity['type']+':'+entity['text']+'>'\n                    taggedtext = re.sub(regexstr,tagText,taggedtext)\n                    tagTextMap[tagText] = entity['text']\n    \n    return taggedtext\n\ndef extract_relations(text, config,relations):\n    \"\"\" Extract entity relationships in a sentence\n    \"\"\"    \n    sentenceList = split_sentences(text)\n    configjson = json.loads(config)\n     \n    for sentences in sentenceList:\n        for rules in configjson['configuration']['relations']['rules']:\n            if (rules['type'] == 'd_regex'):\n                for regex in rules['d_regex']:\n                    regextags = regex_tagging(regex['tag'],regex['pattern'],sentences)\n                    if (len(regextags)>0):\n                        for words in regextags:\n                            relations.append((tagTextMap[words[0]],regex['tag'],tagTextMap[words[2]]))\n         \n    return relations\n\ndef compute_text_similarity(text1, text2, text1tags, text2tags):\n    \"\"\" Compute text similarity using cosine\n    \"\"\"\n    sentences_text1 = split_sentences(text1)\n    sentences_text2 = split_sentences(text2)\n    tokens_text1 = []\n    tokens_text2 = []\n    \n    for sentence in sentences_text1:\n        tokenstemp = split_into_tokens(sentence.lower())\n        tokens_text1.extend(tokenstemp)\n    \n    for sentence in sentences_text2:\n        tokenstemp = split_into_tokens(sentence.lower())\n        tokens_text2.extend(tokenstemp)\n    # Add text tags    \n    if (len(text1tags) > 0):  \n        tokens_text1.extend(text1tags)\n    if (len(text2tags) > 0):    \n        tokens_text2.extend(text2tags)\n    \n    # Stem words\n    tokens1Filtered = [stemmer.stem(x) for x in tokens_text1 if x not in stopWords]\n    tokens2Filtered = [stemmer.stem(x) for x in tokens_text2 if x not in stopWords]\n    \n    #  remove duplicate tokens\n    tokens1Filtered = set(tokens1Filtered)\n    tokens2Filtered = set(tokens2Filtered)\n   \n    tokensList=[]\n\n    text1vector = []\n    text2vector = []\n\n    if len(tokens1Filtered) < len(tokens2Filtered):\n        tokensList = tokens1Filtered\n    else:\n        tokensList = tokens2Filtered\n\n    for token in tokensList:\n        if token in tokens1Filtered:\n            text1vector.append(1)\n        else:\n            text1vector.append(0)\n        if token in tokens2Filtered:\n            text2vector.append(1)\n        else:\n            text2vector.append(0)  \n\n    cosine_similarity = 1-cosine_distance(text1vector,text2vector)\n    if numpy.isnan(cosine_similarity):\n        cosine_similarity = 0\n    \n    return cosine_similarity"
        }, 
        {
            "source": "<a id='corr3'></a>\n### 4.3 Correlated Network Visualization\n\nUtility function to plot network visualization of entity relationships to correlate them.", 
            "cell_type": "markdown", 
            "metadata": {}
        }, 
        {
            "execution_count": 23, 
            "cell_type": "code", 
            "metadata": {}, 
            "outputs": [], 
            "source": "def draw_simple_graph(graph):\n\n    nodes = []\n    labels = []\n    edges = []\n    # extract nodes from graph\n    for tuples in graph:\n        nodes.append(tuples[0])\n        nodes.append(tuples[2])\n        \n    # extract edges from graph\n    for edgepairs in graph:\n        edges.append((edgepairs[0],edgepairs[2]))        \n    # extract edge labels from graph\n    for edgetuples in graph:\n        labels.append(edgetuples[1])\n    # create networkx graph\n    G=nx.Graph()\n    # add nodes\n    for node in nodes:\n        G.add_node(node)\n    # add edges\n    for edge in graph:\n        G.add_edge(edge[0], edge[2])\n\n    # draw graph\n    pos = nx.spring_layout(G)\n    nx.draw(G, pos,with_labels = True)\n    edge_labels = dict(zip(edges, labels))\n    nx.draw_networkx_edge_labels(G, pos, edge_labels = edge_labels)\n\n    # show graph\n    plt.show()    "
        }, 
        {
            "source": "<a id='store'></a>\n## 5. Read Data", 
            "cell_type": "markdown", 
            "metadata": {}
        }, 
        {
            "source": "<a id='store1'></a>\n### 5.1 Configure Object Storage Client", 
            "cell_type": "markdown", 
            "metadata": {
                "collapsed": true
            }
        }, 
        {
            "execution_count": 24, 
            "cell_type": "code", 
            "metadata": {}, 
            "outputs": [], 
            "source": "cos = ibm_boto3.client('s3',\n                    ibm_api_key_id=credentials_1['IBM_API_KEY_ID'],\n                    ibm_service_instance_id=credentials_1['IAM_SERVICE_ID'],\n                    ibm_auth_endpoint=credentials_1['IBM_AUTH_ENDPOINT'],\n                    config=Config(signature_version='oauth'),\n                    endpoint_url=credentials_1['ENDPOINT'])\n\ndef get_file(filename):\n    '''Retrieve file from Cloud Object Storage'''\n    fileobject = cos.get_object(Bucket=credentials_1['BUCKET'], Key=filename)['Body']\n    return fileobject\n\ndef load_string(fileobject):\n    '''Load the file contents into a Python string'''\n    text = fileobject.read()\n    return text"
        }, 
        {
            "source": "<a id='store2'></a>\n### 5.2. Get Data\nRead the data and configuration files for correlation from IBM Cloud Object Storage. \n", 
            "cell_type": "markdown", 
            "metadata": {}
        }, 
        {
            "execution_count": 31, 
            "cell_type": "code", 
            "metadata": {}, 
            "outputs": [], 
            "source": "text1 = load_string(get_file(sampleTextFileName1)).decode('utf8')\ntext2 = load_string(get_file(sampleTextFileName2)).decode('utf8')\nconfig = load_string(get_file(sampleConfigFileName)).decode('utf8')\nrelationships = []"
        }, 
        {
            "execution_count": 29, 
            "cell_type": "code", 
            "metadata": {}, 
            "outputs": [
                {
                    "execution_count": 29, 
                    "metadata": {}, 
                    "data": {
                        "text/plain": "'Barack Hussein Obama II  born August 4, 1961 is an American politician who served as the 44th President of the United States from 2009 to 2017. He previously served in the U S Senate representing Illinois from 2005 to 2008 and in the Illinois State Senate from 1997 to 2004.\\n'"
                    }, 
                    "output_type": "execute_result"
                }
            ], 
            "source": "text1.decode('utf8')"
        }, 
        {
            "execution_count": 32, 
            "cell_type": "code", 
            "metadata": {}, 
            "outputs": [
                {
                    "output_type": "stream", 
                    "name": "stdout", 
                    "text": "Warning: parsing empty text\nWarning: parsing empty text\nWarning: parsing empty text\nWarning: parsing empty text\nWarning: parsing empty text\nWarning: parsing empty text\nWarning: parsing empty text\nWarning: parsing empty text\nWarning: parsing empty text\nWarning: parsing empty text\nWarning: parsing empty text\nWarning: parsing empty text\nWarning: parsing empty text\nWarning: parsing empty text\nWarning: parsing empty text\nWarning: parsing empty text\nWarning: parsing empty text\nWarning: parsing empty text\nWarning: parsing empty text\nWarning: parsing empty text\nWarning: parsing empty text\nWarning: parsing empty text\nWarning: parsing empty text\nWarning: parsing empty text\nWarning: parsing empty text\nWarning: parsing empty text\nWarning: parsing empty text\nWarning: parsing empty text\nWarning: parsing empty text\nWarning: parsing empty text\nWarning: parsing empty text\nWarning: parsing empty text\nWarning: parsing empty text\nWarning: parsing empty text\nWarning: parsing empty text\nWarning: parsing empty text\n[' Barack Hussein Obama II', ' August', ' President', ' United']\n[' Barack Hussein Obama II', ' U S Senate', ' Illinois', ' Illinois State Senate']\nWarning: parsing empty text\n[]\nNO ENTITY\nNO ENTITY\nNO ENTITY\nNO ENTITY\nNO ENTITY\n[' Michelle Obama', ' January', ' Chicago', ' Illinois']\n[' Michelle Obama', ' Princeton University', ' Harvard Law School']\n[' Michelle Obama', ' Barack Hussein Obama']\nWarning: parsing empty text\n[]\nNO ENTITY\nNO ENTITY\nNO ENTITY\nNO ENTITY\nNO ENTITY\nNO ENTITY\n"
                }, 
                {
                    "execution_count": 32, 
                    "metadata": {}, 
                    "data": {
                        "text/plain": "[('Barack Hussein Obama', 'BornAt', 'United States'),\n ('Barack Hussein Obama', 'ServedAt', 'Senate'),\n ('Barack Hussein Obama', 'RepresentiveFor', 'Illinois'),\n ('Michelle Obama', 'BornAt', 'Illinois'),\n ('Michelle Obama', 'SpouseOf', 'Barack Hussein Obama')]"
                    }, 
                    "output_type": "execute_result"
                }
            ], 
            "source": "resolved_text1 = resolve_coreference(text1, config)\nresolved_text2 = resolve_coreference(text2, config)\n\ndisambiguated_text1 = disambiguate_entities(resolved_text1)\ndisambiguated_text2 = disambiguate_entities(resolved_text2)\n\nextract_relations(disambiguated_text1, config,relationships)\nextract_relations(disambiguated_text2, config,relationships)"
        }, 
        {
            "source": "<a id='corr-text'></a>\n## 6. Correlate text", 
            "cell_type": "markdown", 
            "metadata": {}
        }, 
        {
            "execution_count": 33, 
            "cell_type": "code", 
            "metadata": {}, 
            "outputs": [
                {
                    "output_type": "stream", 
                    "name": "stdout", 
                    "text": "Document similarity score\n0.480384461415\n\nEntities and relations:\n[('Barack Hussein Obama', 'BornAt', 'United States'), ('Barack Hussein Obama', 'ServedAt', 'Senate'), ('Barack Hussein Obama', 'RepresentiveFor', 'Illinois'), ('Michelle Obama', 'BornAt', 'Illinois'), ('Michelle Obama', 'SpouseOf', 'Barack Hussein Obama')]\n"
                }
            ], 
            "source": "print (\"Document similarity score\")\nprint (compute_text_similarity(text1,text2,[],[]))\nprint (\"\")\nprint (\"Entities and relations:\")\nprint (relationships)"
        }, 
        {
            "source": "<a id='vis'></a>\n## 7. Visualize correlated text\n\nPlot network graph of the correlated text.", 
            "cell_type": "markdown", 
            "metadata": {}
        }, 
        {
            "execution_count": 34, 
            "cell_type": "code", 
            "metadata": {}, 
            "outputs": [
                {
                    "output_type": "display_data", 
                    "data": {
                        "image/png": "[encoded data removed]", 
                        "text/plain": "<matplotlib.figure.Figure at 0x2b1b95ffcf28>"
                    }, 
                    "metadata": {}
                }
            ], 
            "source": "draw_simple_graph(relationships)"
        }, 
        {
            "source": "As you can see, all the entities and relationships have been identified.\n\nYou can go ahead and enhance the algorithm as well as the input configuration file to get better results for the specific scenario that you are working on.", 
            "cell_type": "markdown", 
            "metadata": {}
        }, 
        {
            "source": "### Author \n**Vishal Chahal** is the Chief Architect for Cognitive Solutions at System Integrators lab and also the Technical Lead for IBM Machine Learning Hub at IBM Software Labs in Bangalore. \n\nBalaji Kadambi is a Solution Architect at System Integrators Lab working on Watson Cognitive Products.\n", 
            "cell_type": "markdown", 
            "metadata": {}
        }, 
        {
            "source": "Copyright \u00a9 2018 IBM. This notebook and its source code are released under the terms of the MIT License.", 
            "cell_type": "markdown", 
            "metadata": {}
        }
    ], 
    "metadata": {
        "kernelspec": {
            "display_name": "Python 3.5", 
            "name": "python3", 
            "language": "python"
        }, 
        "language_info": {
            "mimetype": "text/x-python", 
            "nbconvert_exporter": "python", 
            "version": "3.5.4", 
            "name": "python", 
            "file_extension": ".py", 
            "pygments_lexer": "ipython3", 
            "codemirror_mode": {
                "version": 3, 
                "name": "ipython"
            }
        }, 
        "anaconda-cloud": {}
    }, 
    "nbformat": 4
}
{
    "nbformat_minor": 1, 
    "cells": [
        {
            "source": "# Access Db2 Warehouse on Cloud and Db2 with Python\n\n* [Db2 Warehouse on Cloud](https://console.bluemix.net/catalog/services/db2-warehouse) \uc11c\ube44\uc2a4\ub97c \ud65c\uc6a9\ud558\uae30 \uc704\ud574\uc11c Python jdbc \ub77c\uc774\ube0c\ub7ec\ub9ac\ub97c \ud65c\uc6a9\ud569\ub2c8\ub2e4. \n* \uc218\ud589\uc804\uc5d0 Db2 Warehouse on cloud \uc11c\ube44\uc2a4\ub97c \uc0dd\uc131\ud558\uace0, \uc811\uc18d \uc815\ubcf4\ub97c \uac00\uc838\uc640\uc57c \ud569\ub2c8\ub2e4.\n\n*** \"Db2WH connection info\" [github](https://github.com/moreal70/IBM-Watson-Studio/blob/master/Db2WH-connection%20info.ipynb) \ucc38\uace0\ud558\uc138\uc694 ***  \n\n\n## Table of contents\n\n1. [Setup](#Setup) \n1. [Import the *ibmdbpy* Python library](#Import-the-ibmdbpy-Python-library)\n1. [Identify and enter the database connection credentials](#Identify-and-enter-the-database-connection-credentials)\n1. [Create the database connection](#Create-the-database-connection)\n1. [Use dataframe to read and manipulate tables](#Use-dataframe-to-read-and-manipulate-tables)\n1. [Close the database connection](#Close-the-database-connection)\n1. [Summary](#Summary)\n\n\n## Setup\n\nBefore you begin you will need **Db2 Warehouse on Cloud** which is a fully-managed, enterprise-class, cloud data warehouse service, purpose-built for analytics. It offers massively parallel processing (MPP) scale and compatibility with a wide range of business intelligence (BI) tools.  \n\n\n## Import the *ibmdbpy* Python library\n\nPython support for Db2 Warehouse on Cloud and Db2 is provided by the <a href=\"https://pypi.python.org/pypi/ibmdbpy\" target=\"_blank\" rel=\"noopener noreferrer\">ibmdbpy Python library</a>. Connecting to Db2 Warehouse on Cloud or Db2 is also enabled by a Db2 driver, libdb2.so.\n\nThe JDBC Connection is based on a Java virtual machine. From the ibmdbpy library you can use JDBC to connect to a remote Db2 Warehouse on Cloud/Db2 instance. To be able to use JDBC to connect, we need to import the *JayDeBeApi* package.\n\n* \ud574\ub2f9 environment \uc2dc\uc2a4\ud15c\uc5d0 \ubaa8\ub4c8\uc774 \uc124\uce58\uac00 \ub418\uc9c0 \uc54a\uc558\uc744 \uacbd\uc6b0, \uc544\ub798 cell \uc744 \uc2e4\ud589\ud574\uc11c \uc124\uce58\ud569\ub2c8\ub2e4. ", 
            "cell_type": "markdown", 
            "metadata": {}
        }, 
        {
            "execution_count": 1, 
            "cell_type": "code", 
            "metadata": {}, 
            "outputs": [
                {
                    "output_type": "stream", 
                    "name": "stdout", 
                    "text": "Requirement not upgraded as not directly required: jaydebeapi in /opt/conda/envs/DSX-Python35/lib/python3.5/site-packages\nRequirement not upgraded as not directly required: JPype1 in /opt/conda/envs/DSX-Python35/lib/python3.5/site-packages (from jaydebeapi)\nRequirement not upgraded as not directly required: ibmdbpy in /opt/conda/envs/DSX-Python35/lib/python3.5/site-packages\nRequirement not upgraded as not directly required: lazy in /opt/conda/envs/DSX-Python35/lib/python3.5/site-packages (from ibmdbpy)\nRequirement not upgraded as not directly required: future in /opt/conda/envs/DSX-Python35/lib/python3.5/site-packages (from ibmdbpy)\nRequirement not upgraded as not directly required: pypyodbc in /opt/conda/envs/DSX-Python35/lib/python3.5/site-packages (from ibmdbpy)\nRequirement not upgraded as not directly required: pandas in /opt/conda/envs/DSX-Python35/lib/python3.5/site-packages (from ibmdbpy)\nRequirement not upgraded as not directly required: numpy in /opt/conda/envs/DSX-Python35/lib/python3.5/site-packages (from ibmdbpy)\nRequirement not upgraded as not directly required: six in /opt/conda/envs/DSX-Python35/lib/python3.5/site-packages (from ibmdbpy)\nRequirement not upgraded as not directly required: setuptools in /opt/conda/envs/DSX-Python35/lib/python3.5/site-packages (from pypyodbc->ibmdbpy)\nRequirement not upgraded as not directly required: python-dateutil>=2 in /opt/conda/envs/DSX-Python35/lib/python3.5/site-packages (from pandas->ibmdbpy)\nRequirement not upgraded as not directly required: pytz>=2011k in /opt/conda/envs/DSX-Python35/lib/python3.5/site-packages (from pandas->ibmdbpy)\n"
                }
            ], 
            "source": "!pip install jaydebeapi --user  \n!pip install ibmdbpy --user "
        }, 
        {
            "execution_count": 4, 
            "cell_type": "code", 
            "metadata": {}, 
            "outputs": [], 
            "source": "import jaydebeapi\nfrom ibmdbpy import IdaDataBase\nfrom ibmdbpy import IdaDataFrame"
        }, 
        {
            "execution_count": 5, 
            "cell_type": "code", 
            "metadata": {}, 
            "outputs": [], 
            "source": "import os\n#os.environ['CLASSPATH'] = \"/usr/local/src/data-connectors-1.4.1/db2jcc4-10.5.0.6.jar\"\n# for Watson Studio Environments please use the following location\nos.environ['CLASSPATH'] = \"/opt/ibm/jdbc/db2jcc4.jar\"\n"
        }, 
        {
            "execution_count": 6, 
            "cell_type": "code", 
            "metadata": {}, 
            "outputs": [], 
            "source": "import jpype\nargs='-Djava.class.path=%s' % os.environ['CLASSPATH']\njvm = jpype.getDefaultJVMPath()"
        }, 
        {
            "source": "***\uc2e4\uc81c\ub85c jar \ud654\uc77c\uc774 \uc874\uc7ac\ud558\ub294 \uc9c0 \ud655\uc778\ud574\ubd24\uc2b5\ub2c8\ub2e4.***", 
            "cell_type": "markdown", 
            "metadata": {}
        }, 
        {
            "execution_count": 7, 
            "cell_type": "code", 
            "metadata": {
                "scrolled": true
            }, 
            "outputs": [
                {
                    "output_type": "stream", 
                    "name": "stdout", 
                    "text": "-r--r--r-- 1 root root 3924511 Mar 15 13:16 /opt/ibm/jdbc/db2jcc4.jar\n-rwxr-xr-x 1 root root 115232 Feb 14 18:38 /opt/ibm/java-x86_64-80/jre/bin/classic/libjvm.so\n"
                }, 
                {
                    "execution_count": 7, 
                    "metadata": {}, 
                    "data": {
                        "text/plain": "'-Djava.class.path=/opt/ibm/jdbc/db2jcc4.jar'"
                    }, 
                    "output_type": "execute_result"
                }
            ], 
            "source": "!ls -al /opt/ibm/jdbc/db2jcc4.jar\n!ls -al /opt/ibm/java-x86_64-80/jre/bin/classic/libjvm.so\nargs"
        }, 
        {
            "execution_count": 8, 
            "cell_type": "code", 
            "metadata": {}, 
            "outputs": [], 
            "source": "jpype.startJVM(jvm, args)"
        }, 
        {
            "source": "\n## Identify and enter the database connection credentials\n\nConnecting to Db2 Warehouse on Cloud or a Db2 database requires the following information:\n* Database name \n* Host DNS name or IP address \n* Host port\n* Connection protocol\n* User ID\n* User password\n\nAll of this information must be captured in a connection string in a subsequent step. Provide the Db2 Warehouse on Cloud or Db2 connection information as shown:", 
            "cell_type": "markdown", 
            "metadata": {}
        }, 
        {
            "execution_count": 7, 
            "cell_type": "code", 
            "metadata": {}, 
            "outputs": [], 
            "source": "dsn_uid = \"dash33218\";  # e.g.  db104434\ndsn_pwd = \"6__r9ltKnMVW\"   # e.g. xxxx\ndsn_hostname =\"dashdb-entry-yp-syd01-01.services.au-syd.bluemix.net\"  # e.g.  awh-yp-small03.services.dal.bluemix.net\ndsn_port = \"50000\"   # e.g.  50001\ndsn_database = \"BLUDB\"   # e.g. BLUDB "
        }, 
        {
            "source": "## Create the database connection\n\nThe following code snippet creates a connection string `connection_string`\nand uses the `connection_string` to create a Db2 connection object:\n", 
            "cell_type": "markdown", 
            "metadata": {}
        }, 
        {
            "execution_count": 8, 
            "cell_type": "code", 
            "metadata": {}, 
            "outputs": [], 
            "source": "connection_string='jdbc:db2://'+dsn_hostname+':'+dsn_port+'/'+dsn_database+':user='+dsn_uid+';password='+dsn_pwd+\";\" \nidadb=IdaDataBase(dsn=connection_string)"
        }, 
        {
            "source": "## Use dataframe to read and manipulate tables\n\nYou can now use the connection object `conn` to query the database:", 
            "cell_type": "markdown", 
            "metadata": {}
        }, 
        {
            "execution_count": 9, 
            "cell_type": "code", 
            "metadata": {}, 
            "outputs": [
                {
                    "execution_count": 9, 
                    "metadata": {}, 
                    "data": {
                        "text/html": "<div>\n<style scoped>\n    .dataframe tbody tr th:only-of-type {\n        vertical-align: middle;\n    }\n\n    .dataframe tbody tr th {\n        vertical-align: top;\n    }\n\n    .dataframe thead th {\n        text-align: right;\n    }\n</style>\n<table border=\"1\" class=\"dataframe\">\n  <thead>\n    <tr style=\"text-align: right;\">\n      <th></th>\n      <th>TABSCHEMA</th>\n      <th>TABNAME</th>\n      <th>OWNER</th>\n      <th>TYPE</th>\n    </tr>\n  </thead>\n  <tbody>\n    <tr>\n      <th>0</th>\n      <td>GOSALES</td>\n      <td>BRANCH</td>\n      <td>DB2INST1</td>\n      <td>T</td>\n    </tr>\n    <tr>\n      <th>1</th>\n      <td>GOSALES</td>\n      <td>CONVERSION_RATE</td>\n      <td>DB2INST1</td>\n      <td>T</td>\n    </tr>\n    <tr>\n      <th>2</th>\n      <td>GOSALES</td>\n      <td>COUNTRY</td>\n      <td>DB2INST1</td>\n      <td>T</td>\n    </tr>\n    <tr>\n      <th>3</th>\n      <td>GOSALES</td>\n      <td>CURRENCY_LOOKUP</td>\n      <td>DB2INST1</td>\n      <td>T</td>\n    </tr>\n    <tr>\n      <th>4</th>\n      <td>GOSALES</td>\n      <td>EURO_CONVERSION</td>\n      <td>DB2INST1</td>\n      <td>T</td>\n    </tr>\n  </tbody>\n</table>\n</div>", 
                        "text/plain": "  TABSCHEMA          TABNAME     OWNER TYPE\n0   GOSALES           BRANCH  DB2INST1    T\n1   GOSALES  CONVERSION_RATE  DB2INST1    T\n2   GOSALES          COUNTRY  DB2INST1    T\n3   GOSALES  CURRENCY_LOOKUP  DB2INST1    T\n4   GOSALES  EURO_CONVERSION  DB2INST1    T"
                    }, 
                    "output_type": "execute_result"
                }
            ], 
            "source": "df=idadb.show_tables(show_all = True)\ndf.head(5)"
        }, 
        {
            "execution_count": 10, 
            "cell_type": "code", 
            "metadata": {}, 
            "outputs": [
                {
                    "execution_count": 10, 
                    "metadata": {}, 
                    "data": {
                        "text/plain": "True"
                    }, 
                    "output_type": "execute_result"
                }
            ], 
            "source": "idadb.exists_table_or_view('GOSALESDW.EMP_EXPENSE_FACT')"
        }, 
        {
            "source": "Using our previously opened IdaDataBase instance named \u2018idadb\u2019, we can open one or several IdaDataFrame objects. They behave like pointers to remote tables.\n\nLet us open the *EMP_EXPENSE_FACT* data set, assuming it is stored in the database under the name \u2018GOSALESDW.EMP_EXPENSE_FACT\u2019. The following cell assigns the dataset to a pandas DataFrame.\n\nThe [Pandas data analysis library](http://pandas.pydata.org/) provides high-performance, easy-to-use data structures and data analysis tools for the Python programming language. Pandas allows easy processing and manipulation of tabular data, so it is a perfect fit for data extracted from relational databases.\n", 
            "cell_type": "markdown", 
            "metadata": {}
        }, 
        {
            "execution_count": 11, 
            "cell_type": "code", 
            "metadata": {}, 
            "outputs": [], 
            "source": "idadf = IdaDataFrame(idadb, 'GOSALESDW.EMP_EXPENSE_FACT')"
        }, 
        {
            "source": "You can very easily explore the data in the IdaDataFrame by using built in functions.\n\nUse IdaDataFrame.head to get the first n records of your data set (default 5):", 
            "cell_type": "markdown", 
            "metadata": {}
        }, 
        {
            "execution_count": 12, 
            "cell_type": "code", 
            "metadata": {}, 
            "outputs": [
                {
                    "execution_count": 12, 
                    "metadata": {}, 
                    "data": {
                        "text/html": "<div>\n<style scoped>\n    .dataframe tbody tr th:only-of-type {\n        vertical-align: middle;\n    }\n\n    .dataframe tbody tr th {\n        vertical-align: top;\n    }\n\n    .dataframe thead th {\n        text-align: right;\n    }\n</style>\n<table border=\"1\" class=\"dataframe\">\n  <thead>\n    <tr style=\"text-align: right;\">\n      <th></th>\n      <th>DAY_KEY</th>\n      <th>ORGANIZATION_KEY</th>\n      <th>POSITION_KEY</th>\n      <th>EMPLOYEE_KEY</th>\n      <th>EXPENSE_TYPE_KEY</th>\n      <th>ACCOUNT_KEY</th>\n      <th>EXPENSE_UNIT_QUANTITY</th>\n      <th>EXPENSE_TOTAL</th>\n    </tr>\n  </thead>\n  <tbody>\n    <tr>\n      <th>0</th>\n      <td>20100131</td>\n      <td>11177</td>\n      <td>43613</td>\n      <td>4770</td>\n      <td>2124</td>\n      <td>8056</td>\n      <td>0.03</td>\n      <td>59.95</td>\n    </tr>\n    <tr>\n      <th>1</th>\n      <td>20100131</td>\n      <td>11177</td>\n      <td>43613</td>\n      <td>4770</td>\n      <td>2103</td>\n      <td>8050</td>\n      <td>15.00</td>\n      <td>181.66</td>\n    </tr>\n    <tr>\n      <th>2</th>\n      <td>20100131</td>\n      <td>11177</td>\n      <td>43613</td>\n      <td>4770</td>\n      <td>2101</td>\n      <td>8049</td>\n      <td>150.00</td>\n      <td>1816.56</td>\n    </tr>\n    <tr>\n      <th>3</th>\n      <td>20100131</td>\n      <td>11177</td>\n      <td>43613</td>\n      <td>4770</td>\n      <td>2122</td>\n      <td>8054</td>\n      <td>0.11</td>\n      <td>219.80</td>\n    </tr>\n    <tr>\n      <th>4</th>\n      <td>20100131</td>\n      <td>11177</td>\n      <td>43613</td>\n      <td>4770</td>\n      <td>2120</td>\n      <td>8052</td>\n      <td>0.08</td>\n      <td>159.86</td>\n    </tr>\n  </tbody>\n</table>\n</div>", 
                        "text/plain": "    DAY_KEY  ORGANIZATION_KEY  POSITION_KEY  EMPLOYEE_KEY  EXPENSE_TYPE_KEY  \\\n0  20100131             11177         43613          4770              2124   \n1  20100131             11177         43613          4770              2103   \n2  20100131             11177         43613          4770              2101   \n3  20100131             11177         43613          4770              2122   \n4  20100131             11177         43613          4770              2120   \n\n   ACCOUNT_KEY  EXPENSE_UNIT_QUANTITY  EXPENSE_TOTAL  \n0         8056                   0.03          59.95  \n1         8050                  15.00         181.66  \n2         8049                 150.00        1816.56  \n3         8054                   0.11         219.80  \n4         8052                   0.08         159.86  "
                    }, 
                    "output_type": "execute_result"
                }
            ], 
            "source": "idadf.head(5)"
        }, 
        {
            "source": "Use IdaDataFrame.tail to get the last n records of your data set (default 5):", 
            "cell_type": "markdown", 
            "metadata": {}
        }, 
        {
            "execution_count": 13, 
            "cell_type": "code", 
            "metadata": {}, 
            "outputs": [
                {
                    "execution_count": 13, 
                    "metadata": {}, 
                    "data": {
                        "text/html": "<div>\n<style scoped>\n    .dataframe tbody tr th:only-of-type {\n        vertical-align: middle;\n    }\n\n    .dataframe tbody tr th {\n        vertical-align: top;\n    }\n\n    .dataframe thead th {\n        text-align: right;\n    }\n</style>\n<table border=\"1\" class=\"dataframe\">\n  <thead>\n    <tr style=\"text-align: right;\">\n      <th></th>\n      <th>DAY_KEY</th>\n      <th>ORGANIZATION_KEY</th>\n      <th>POSITION_KEY</th>\n      <th>EMPLOYEE_KEY</th>\n      <th>EXPENSE_TYPE_KEY</th>\n      <th>ACCOUNT_KEY</th>\n      <th>EXPENSE_UNIT_QUANTITY</th>\n      <th>EXPENSE_TOTAL</th>\n    </tr>\n  </thead>\n  <tbody>\n    <tr>\n      <th>127979</th>\n      <td>20130731</td>\n      <td>11125</td>\n      <td>43633</td>\n      <td>4207</td>\n      <td>2104</td>\n      <td>8050</td>\n      <td>11.25</td>\n      <td>216.35</td>\n    </tr>\n    <tr>\n      <th>127980</th>\n      <td>20130731</td>\n      <td>11125</td>\n      <td>43633</td>\n      <td>4207</td>\n      <td>2114</td>\n      <td>8050</td>\n      <td>1.75</td>\n      <td>49.88</td>\n    </tr>\n    <tr>\n      <th>127981</th>\n      <td>20130731</td>\n      <td>11125</td>\n      <td>43633</td>\n      <td>4207</td>\n      <td>2120</td>\n      <td>8052</td>\n      <td>0.08</td>\n      <td>257.84</td>\n    </tr>\n    <tr>\n      <th>127982</th>\n      <td>20130731</td>\n      <td>11125</td>\n      <td>43633</td>\n      <td>4207</td>\n      <td>2122</td>\n      <td>8054</td>\n      <td>0.11</td>\n      <td>354.53</td>\n    </tr>\n    <tr>\n      <th>127983</th>\n      <td>20130731</td>\n      <td>11125</td>\n      <td>43633</td>\n      <td>4207</td>\n      <td>2124</td>\n      <td>8056</td>\n      <td>0.03</td>\n      <td>96.69</td>\n    </tr>\n  </tbody>\n</table>\n</div>", 
                        "text/plain": "         DAY_KEY  ORGANIZATION_KEY  POSITION_KEY  EMPLOYEE_KEY  \\\n127979  20130731             11125         43633          4207   \n127980  20130731             11125         43633          4207   \n127981  20130731             11125         43633          4207   \n127982  20130731             11125         43633          4207   \n127983  20130731             11125         43633          4207   \n\n        EXPENSE_TYPE_KEY  ACCOUNT_KEY  EXPENSE_UNIT_QUANTITY  EXPENSE_TOTAL  \n127979              2104         8050                  11.25         216.35  \n127980              2114         8050                   1.75          49.88  \n127981              2120         8052                   0.08         257.84  \n127982              2122         8054                   0.11         354.53  \n127983              2124         8056                   0.03          96.69  "
                    }, 
                    "output_type": "execute_result"
                }
            ], 
            "source": "idadf.tail(5)"
        }, 
        {
            "source": "__Note__: Because Db2 Warehouse on Cloud operates on a distributed system, the order of rows using IdaDataFrame.head and IdaDataFrame.tail is not guaranteed unless the table is sorted (using an \u2018ORDER BY\u2019 clause) or a column is declared as index for the IdaDataFrame (parameter/attribute indexer).\n\nIdaDataFrame also implements most attributes that are available in a pandas DataFrame:\n", 
            "cell_type": "markdown", 
            "metadata": {}
        }, 
        {
            "execution_count": 14, 
            "cell_type": "code", 
            "metadata": {}, 
            "outputs": [
                {
                    "execution_count": 14, 
                    "metadata": {}, 
                    "data": {
                        "text/plain": "(127984, 8)"
                    }, 
                    "output_type": "execute_result"
                }
            ], 
            "source": "idadf.shape"
        }, 
        {
            "execution_count": 15, 
            "cell_type": "code", 
            "metadata": {}, 
            "outputs": [
                {
                    "execution_count": 15, 
                    "metadata": {}, 
                    "data": {
                        "text/plain": "Index(['DAY_KEY', 'ORGANIZATION_KEY', 'POSITION_KEY', 'EMPLOYEE_KEY',\n       'EXPENSE_TYPE_KEY', 'ACCOUNT_KEY', 'EXPENSE_UNIT_QUANTITY',\n       'EXPENSE_TOTAL'],\n      dtype='object')"
                    }, 
                    "output_type": "execute_result"
                }
            ], 
            "source": "idadf.columns"
        }, 
        {
            "source": "Several standard statistics functions from the pandas interface are also available for IdaDataFrame. For example, let us calculate the covariance matrix for the iris data set:", 
            "cell_type": "markdown", 
            "metadata": {}
        }, 
        {
            "execution_count": 16, 
            "cell_type": "code", 
            "metadata": {}, 
            "outputs": [
                {
                    "execution_count": 16, 
                    "metadata": {}, 
                    "data": {
                        "text/html": "<div>\n<style scoped>\n    .dataframe tbody tr th:only-of-type {\n        vertical-align: middle;\n    }\n\n    .dataframe tbody tr th {\n        vertical-align: top;\n    }\n\n    .dataframe thead th {\n        text-align: right;\n    }\n</style>\n<table border=\"1\" class=\"dataframe\">\n  <thead>\n    <tr style=\"text-align: right;\">\n      <th></th>\n      <th>DAY_KEY</th>\n      <th>ORGANIZATION_KEY</th>\n      <th>POSITION_KEY</th>\n      <th>EMPLOYEE_KEY</th>\n      <th>EXPENSE_TYPE_KEY</th>\n      <th>ACCOUNT_KEY</th>\n      <th>EXPENSE_UNIT_QUANTITY</th>\n      <th>EXPENSE_TOTAL</th>\n    </tr>\n  </thead>\n  <tbody>\n    <tr>\n      <th>DAY_KEY</th>\n      <td>1.074445e+08</td>\n      <td>-1301.774305</td>\n      <td>-2699.336397</td>\n      <td>-74463.200864</td>\n      <td>-2541.104007</td>\n      <td>-88.733494</td>\n      <td>-2747.250164</td>\n      <td>3.387493e+05</td>\n    </tr>\n    <tr>\n      <th>ORGANIZATION_KEY</th>\n      <td>-1.301774e+03</td>\n      <td>977.978493</td>\n      <td>-60.746262</td>\n      <td>2228.417559</td>\n      <td>-27.240468</td>\n      <td>0.756326</td>\n      <td>11.186590</td>\n      <td>-2.999219e+03</td>\n    </tr>\n    <tr>\n      <th>POSITION_KEY</th>\n      <td>-2.699336e+03</td>\n      <td>-60.746262</td>\n      <td>148.234472</td>\n      <td>-2070.934630</td>\n      <td>10.284910</td>\n      <td>-1.006254</td>\n      <td>-13.697657</td>\n      <td>1.101108e+03</td>\n    </tr>\n    <tr>\n      <th>EMPLOYEE_KEY</th>\n      <td>-7.446320e+04</td>\n      <td>2228.417559</td>\n      <td>-2070.934630</td>\n      <td>89393.601947</td>\n      <td>-237.530049</td>\n      <td>39.144365</td>\n      <td>525.387975</td>\n      <td>4.739903e+04</td>\n    </tr>\n    <tr>\n      <th>EXPENSE_TYPE_KEY</th>\n      <td>-2.541104e+03</td>\n      <td>-27.240468</td>\n      <td>10.284910</td>\n      <td>-237.530049</td>\n      <td>88.103306</td>\n      <td>4.663223</td>\n      <td>26.490807</td>\n      <td>5.577918e+03</td>\n    </tr>\n    <tr>\n      <th>ACCOUNT_KEY</th>\n      <td>-8.873349e+01</td>\n      <td>0.756326</td>\n      <td>-1.006254</td>\n      <td>39.144365</td>\n      <td>4.663223</td>\n      <td>6.414971</td>\n      <td>-92.920363</td>\n      <td>-2.669485e+03</td>\n    </tr>\n    <tr>\n      <th>EXPENSE_UNIT_QUANTITY</th>\n      <td>-2.747250e+03</td>\n      <td>11.186590</td>\n      <td>-13.697657</td>\n      <td>525.387975</td>\n      <td>26.490807</td>\n      <td>-92.920363</td>\n      <td>3331.325768</td>\n      <td>7.674054e+04</td>\n    </tr>\n    <tr>\n      <th>EXPENSE_TOTAL</th>\n      <td>3.387493e+05</td>\n      <td>-2999.218552</td>\n      <td>1101.107528</td>\n      <td>47399.031411</td>\n      <td>5577.918013</td>\n      <td>-2669.484571</td>\n      <td>76740.540006</td>\n      <td>4.321078e+06</td>\n    </tr>\n  </tbody>\n</table>\n</div>", 
                        "text/plain": "                            DAY_KEY  ORGANIZATION_KEY  POSITION_KEY  \\\nDAY_KEY                1.074445e+08      -1301.774305  -2699.336397   \nORGANIZATION_KEY      -1.301774e+03        977.978493    -60.746262   \nPOSITION_KEY          -2.699336e+03        -60.746262    148.234472   \nEMPLOYEE_KEY          -7.446320e+04       2228.417559  -2070.934630   \nEXPENSE_TYPE_KEY      -2.541104e+03        -27.240468     10.284910   \nACCOUNT_KEY           -8.873349e+01          0.756326     -1.006254   \nEXPENSE_UNIT_QUANTITY -2.747250e+03         11.186590    -13.697657   \nEXPENSE_TOTAL          3.387493e+05      -2999.218552   1101.107528   \n\n                       EMPLOYEE_KEY  EXPENSE_TYPE_KEY  ACCOUNT_KEY  \\\nDAY_KEY               -74463.200864      -2541.104007   -88.733494   \nORGANIZATION_KEY        2228.417559        -27.240468     0.756326   \nPOSITION_KEY           -2070.934630         10.284910    -1.006254   \nEMPLOYEE_KEY           89393.601947       -237.530049    39.144365   \nEXPENSE_TYPE_KEY        -237.530049         88.103306     4.663223   \nACCOUNT_KEY               39.144365          4.663223     6.414971   \nEXPENSE_UNIT_QUANTITY    525.387975         26.490807   -92.920363   \nEXPENSE_TOTAL          47399.031411       5577.918013 -2669.484571   \n\n                       EXPENSE_UNIT_QUANTITY  EXPENSE_TOTAL  \nDAY_KEY                         -2747.250164   3.387493e+05  \nORGANIZATION_KEY                   11.186590  -2.999219e+03  \nPOSITION_KEY                      -13.697657   1.101108e+03  \nEMPLOYEE_KEY                      525.387975   4.739903e+04  \nEXPENSE_TYPE_KEY                   26.490807   5.577918e+03  \nACCOUNT_KEY                       -92.920363  -2.669485e+03  \nEXPENSE_UNIT_QUANTITY            3331.325768   7.674054e+04  \nEXPENSE_TOTAL                   76740.540006   4.321078e+06  "
                    }, 
                    "output_type": "execute_result"
                }
            ], 
            "source": "idadf.cov()"
        }, 
        {
            "source": "It is possible to subset the rows of an IdaDataFrame by accessing the IdaDataFrame with a slice object. You can also use the IdaDataFrame.loc attribute, which contains an ibmdbpy.Loc object. However, the row selection might be inaccurate if the current IdaDataFrame is not sorted or does not contain an indexer. This is due to the fact that Db2 Warehouse on Cloud stores the data across several nodes if available. Moreover, because Db2 Warehouse on Cloud is a column oriented database, row numbers are undefined:", 
            "cell_type": "markdown", 
            "metadata": {}
        }, 
        {
            "execution_count": 17, 
            "cell_type": "code", 
            "metadata": {}, 
            "outputs": [
                {
                    "output_type": "stream", 
                    "name": "stderr", 
                    "text": "/opt/conda/envs/DSX-Python35/lib/python3.5/site-packages/ibmdbpy/indexing.py:118: UserWarning: Row order is not guaranteed if no indexer was given and the dataset was not sorted\n  \" was given and the dataset was not sorted\")\n"
                }, 
                {
                    "execution_count": 17, 
                    "metadata": {}, 
                    "data": {
                        "text/html": "<div>\n<style scoped>\n    .dataframe tbody tr th:only-of-type {\n        vertical-align: middle;\n    }\n\n    .dataframe tbody tr th {\n        vertical-align: top;\n    }\n\n    .dataframe thead th {\n        text-align: right;\n    }\n</style>\n<table border=\"1\" class=\"dataframe\">\n  <thead>\n    <tr style=\"text-align: right;\">\n      <th></th>\n      <th>DAY_KEY</th>\n      <th>ORGANIZATION_KEY</th>\n      <th>POSITION_KEY</th>\n      <th>EMPLOYEE_KEY</th>\n      <th>EXPENSE_TYPE_KEY</th>\n      <th>ACCOUNT_KEY</th>\n      <th>EXPENSE_UNIT_QUANTITY</th>\n      <th>EXPENSE_TOTAL</th>\n    </tr>\n  </thead>\n  <tbody>\n    <tr>\n      <th>0</th>\n      <td>20110228</td>\n      <td>11118</td>\n      <td>43627</td>\n      <td>4802</td>\n      <td>2122</td>\n      <td>8054</td>\n      <td>0.11</td>\n      <td>261.73</td>\n    </tr>\n    <tr>\n      <th>1</th>\n      <td>20110228</td>\n      <td>11118</td>\n      <td>43627</td>\n      <td>4802</td>\n      <td>2124</td>\n      <td>8056</td>\n      <td>0.03</td>\n      <td>71.38</td>\n    </tr>\n    <tr>\n      <th>2</th>\n      <td>20110331</td>\n      <td>11118</td>\n      <td>43627</td>\n      <td>4802</td>\n      <td>2101</td>\n      <td>8049</td>\n      <td>172.50</td>\n      <td>2619.82</td>\n    </tr>\n    <tr>\n      <th>3</th>\n      <td>20110331</td>\n      <td>11118</td>\n      <td>43627</td>\n      <td>4802</td>\n      <td>2120</td>\n      <td>8052</td>\n      <td>0.08</td>\n      <td>223.99</td>\n    </tr>\n    <tr>\n      <th>4</th>\n      <td>20110331</td>\n      <td>11118</td>\n      <td>43627</td>\n      <td>4802</td>\n      <td>2114</td>\n      <td>8050</td>\n      <td>8.00</td>\n      <td>180.00</td>\n    </tr>\n  </tbody>\n</table>\n</div>", 
                        "text/plain": "    DAY_KEY  ORGANIZATION_KEY  POSITION_KEY  EMPLOYEE_KEY  EXPENSE_TYPE_KEY  \\\n0  20110228             11118         43627          4802              2122   \n1  20110228             11118         43627          4802              2124   \n2  20110331             11118         43627          4802              2101   \n3  20110331             11118         43627          4802              2120   \n4  20110331             11118         43627          4802              2114   \n\n   ACCOUNT_KEY  EXPENSE_UNIT_QUANTITY  EXPENSE_TOTAL  \n0         8054                   0.11         261.73  \n1         8056                   0.03          71.38  \n2         8049                 172.50        2619.82  \n3         8052                   0.08         223.99  \n4         8050                   8.00         180.00  "
                    }, 
                    "output_type": "execute_result"
                }
            ], 
            "source": "idadf_new = idadf[0:9] # Select the first 10 rows\nidadf_new.head()"
        }, 
        {
            "source": "## Close the database connection\n\nTo ensure expected behaviors, IdaDataBase instances need to be closed. Closing the *IdaDataBase* is equivalent to closing the connection: once the connection is closed, it is no longer possible to use the *IdaDataBase* instance and any IdaDataFrame instances that were opened on this connection.", 
            "cell_type": "markdown", 
            "metadata": {}
        }, 
        {
            "execution_count": 18, 
            "cell_type": "code", 
            "metadata": {}, 
            "outputs": [
                {
                    "output_type": "stream", 
                    "name": "stdout", 
                    "text": "Connection closed.\n"
                }
            ], 
            "source": "idadb.close()"
        }, 
        {
            "source": "## Summary\n\nThis notebook demonstrated how to establish a connection to a Db2 Warehouse on Cloud / Db2 database from Python using the ibmdbpy library.", 
            "cell_type": "markdown", 
            "metadata": {}
        }, 
        {
            "source": "### Authors\n\n**Saeed Aghabozorgi**, PhD, is a Data Scientist in IBM with a track record of developing enterprise-level applications that substantially increases clients' ability to turn data into actionable knowledge. He is a researcher in the data mining field and an expert in developing advanced analytic methods like machine learning and statistical modelling on large data sets.\n\n**Polong Lin** is a Data Scientist at IBM in Canada. Under the Emerging Technologies division, Polong is responsible for educating the next generation of data scientists through Big Data University. Polong is a regular speaker in conferences and meetups, and holds an M.Sc. in Cognitive Psychology.", 
            "cell_type": "markdown", 
            "metadata": {}
        }, 
        {
            "source": "Copyright \u00a9 2016, 2018 Cognitive Class. This notebook and its source code are released under the terms of the <a href=\"https://bigdatauniversity.com/mit-license/\" rel=\"noopener noreferrer\" target=\"_blank\">MIT License</a>.", 
            "cell_type": "markdown", 
            "metadata": {}
        }
    ], 
    "metadata": {
        "kernelspec": {
            "display_name": "Python 3.5", 
            "name": "python3", 
            "language": "python"
        }, 
        "language_info": {
            "mimetype": "text/x-python", 
            "nbconvert_exporter": "python", 
            "version": "3.5.4", 
            "name": "python", 
            "file_extension": ".py", 
            "pygments_lexer": "ipython3", 
            "codemirror_mode": {
                "version": 3, 
                "name": "ipython"
            }
        }
    }, 
    "nbformat": 4
}
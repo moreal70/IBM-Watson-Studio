{
    "nbformat_minor": 1, 
    "cells": [
        {
            "source": "##  IBM Watson Studio\uc5d0\uc11c github \uc640 \uc5f0\ub3d9\ud558\uae30\n* \ubcf8 \ubb38\uc11c\uc5d0\uc11c\ub294 IBM Watson studio \uc5d0\uc11c \uc791\uc131\ub41c notebook \ub4f1\uc758 \uc18c\uc2a4\uc640 \ubb38\uc11c\ub4f1\uc744 github\uc5d0 \uc62c\ub824\uc11c \uc800\uc7a5 \ubc0f \uacf5\uc720\uac00 \uac00\ub2a5\ud558\ub3c4\ub85d \ud558\uae30\uc704\ud574\uc11c \uac01 \uc0ac\uc6a9\uc790\uac00 \uac16\uace0 \uc788\ub294 github \uacc4\uc815\uacfc \uc5f0\ub3d9\ud560\uc218 \uc788\ub3c4\ub85d \uad6c\uc131\ud558\ub294 \ubc29\ubc95\uc744 \uc124\uba85\ud569\ub2c8\ub2e4. ", 
            "cell_type": "markdown", 
            "metadata": {
                "collapsed": true
            }
        }, 
        {
            "source": "### 1.Github profile\uc5d0\uc11c credential \uc0dd\uc131\ud558\uae30\n\n![github profile #1](https://github.com/moreal70/IBM-Watson-Studio/raw/master/images/github-integration-3.png)", 
            "cell_type": "markdown", 
            "metadata": {}
        }, 
        {
            "source": "### 2.Github profile\uc5d0\uc11c credential \uc0dd\uc131\ud558\uae30\n\n![credential \uc0dd\uc131 #1](https://github.com/moreal70/IBM-Watson-Studio/raw/master/images/github-integration-2.png)", 
            "cell_type": "markdown", 
            "metadata": {}
        }, 
        {
            "source": "### 3.Watson studio profile \uc124\uc815\n\n![catalog search](https://github.com/moreal70/IBM-Watson-Studio/raw/master/images/github-integration-1.png)", 
            "cell_type": "markdown", 
            "metadata": {}
        }, 
        {
            "source": "### 4. Watson Project \uc5d0\uc11c Github \ud3f4\ub354 \uc9c0\uc815\ud558\uae30 \n \n![project github #4](https://github.com/moreal70/IBM-Watson-Studio/raw/master/images/github-integration-4.png)", 
            "cell_type": "markdown", 
            "metadata": {}
        }
    ], 
    "metadata": {
        "kernelspec": {
            "display_name": "Python 3.5", 
            "name": "python3", 
            "language": "python"
        }, 
        "language_info": {
            "mimetype": "text/x-python", 
            "nbconvert_exporter": "python", 
            "version": "3.5.4", 
            "name": "python", 
            "file_extension": ".py", 
            "pygments_lexer": "ipython3", 
            "codemirror_mode": {
                "version": 3, 
                "name": "ipython"
            }
        }
    }, 
    "nbformat": 4
}

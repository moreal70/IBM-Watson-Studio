{
    "nbformat_minor": 1, 
    "cells": [
        {
            "source": "# HowTo : Create custom Environment ", 
            "cell_type": "markdown", 
            "metadata": {
                "_uuid": "08895c5c643bab33e61205b8340a7ba7b88f8ed2", 
                "_cell_guid": "12528ba7-230e-407a-a312-ef8f6ca9a99e"
            }
        }, 
        {
            "source": "* ***platform \uc5d0\uc11c \uc81c\uacf5\ud558\ub294 \ub514\ud3f4\ud2b8 \uc2dc\uc2a4\ud15c \uc678\uc5d0 \ucd94\uac00\ub85c \uc0ac\uc6a9\uc790 \ud658\uacbd\uc744 \ub9cc\ub4e4\uc218\uac00 \uc788\ub294\ub370, ***\n* ***\uc5ec\uae30\uc5d0\ub294 \uc0ac\uc6a9\uc790\uac00 sw module \uc744 \ucd94\uac00\ud560 \uc218\ub3c4 \uc788\uc2b5\ub2c8\ub2e4.***", 
            "cell_type": "markdown", 
            "metadata": {
                "_uuid": "efb595c75201cdb2a53388dc152a8e526e1b921a", 
                "_cell_guid": "872b97b2-56fe-4644-a11f-afb00f422169"
            }
        }, 
        {
            "source": "* ***Default SW configuration***\n\n![SW configuration](https://github.com/moreal70/IBM-Watson-Studio/raw/master/images/notebook_sw_config.png)", 
            "cell_type": "markdown", 
            "metadata": {}
        }, 
        {
            "source": "* ***\uc0ac\uc6a9\uc790 environment \ucd94\uac00\ud558\uae30***\n\n![SW configuration](https://github.com/moreal70/IBM-Watson-Studio/raw/master/images/env_new_add.png)", 
            "cell_type": "markdown", 
            "metadata": {
                "_uuid": "0333d5086a63e3870708e7ba7a540d036c53544e", 
                "_cell_guid": "080fb327-390d-4124-b287-a561d050fe7e"
            }
        }, 
        {
            "source": "* ***python module \ucd94\uac00\ud558\uae30***\n\n![SW configuration](https://github.com/moreal70/IBM-Watson-Studio/raw/master/images/env_customization.png)", 
            "cell_type": "markdown", 
            "metadata": {}
        }, 
        {
            "source": "* ***\uc0ac\uc6a9\uc790 environment \ucd94\uac00\ud55c \uacb0\uacfc \ud655\uc778***\n\n![SW configuration](https://github.com/moreal70/IBM-Watson-Studio/raw/master/images/env_new_add_result.png)", 
            "cell_type": "markdown", 
            "metadata": {}
        }
    ], 
    "metadata": {
        "kernelspec": {
            "display_name": "Python 3.5", 
            "name": "python3", 
            "language": "python"
        }, 
        "language_info": {
            "mimetype": "text/x-python", 
            "nbconvert_exporter": "python", 
            "version": "3.5.4", 
            "name": "python", 
            "file_extension": ".py", 
            "pygments_lexer": "ipython3", 
            "codemirror_mode": {
                "version": 3, 
                "name": "ipython"
            }
        }, 
        "celltoolbar": "Raw Cell Format"
    }, 
    "nbformat": 4
}
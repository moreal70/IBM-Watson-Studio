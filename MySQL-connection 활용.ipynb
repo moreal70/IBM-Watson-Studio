{
    "nbformat_minor": 1, 
    "cells": [
        {
            "source": "##  IBM Watson Studio\uc5d0\uc11c compose for MySQL \uc811\uc18d \uc815\ubcf4 \ud65c\uc6a9\ud558\uae30", 
            "cell_type": "markdown", 
            "metadata": {
                "collapsed": true
            }
        }, 
        {
            "source": "* \ubcf8 \ubb38\uc11c\uc5d0\uc11c\ub294 IBM Cloud \uc5d0\uc11c  MySQL \uc11c\ube44\uc2a4\ub97c \uc0dd\uc131\ud558\uace0,  Watson studio \ud504\ub85c\uadf8\ub7a8\uc5d0\uc11c \uc811\uc18d\ud558\uae30 \uc704\ud55c connection \uc815\ubcf4 \ud68d\ub4dd \uc808\ucc28\uc5d0 \ub300\ud574\uc11c \ub2e4\ub8e8\ub3c4\ub85d \ud569\ub2c8\ub2e4. \n* compose for MySQL \uc811\uc18d\uc744 \uc704\ud574 \ud544\uc694\ud55c \uae30\ubcf8 \uc815\ubcf4\ub294 \uc544\ub798 \uc608\uc2dc \ucf54\ub4dc\uc5d0\uc11c\uc640 \uac19\uc774 user/password/host/port/dbnme \ub4f1 \uc785\ub2c8\ub2e4.\n\n    ** *\ub9cc\uc57d\uc5d0 \ucd94\ucd9c\ub41c \uc815\ubcf4\ub97c \uac00\uc9c0\uace0 \"Data catalog\"\uc5d0\uc11c \"Connection\"\uc744 \ub9cc\ub4e4\uc5c8\ub2e4\uba74 \uac04\ub2e8\ud558\uac8c \"insert to code\" \uba54\ub274\ub97c \ud1b5\ud574\uc11c config \uc815\ubcf4\ub97c import \ud560\uc218 \uc788\uc2b5\ub2c8\ub2e4.  (notebook \ub9e8 \uc544\ub798 \ucc38\uc870)**\n\n----------------------------------\n*** - python program example ***\n\nimport mysql.connector\nconfig = {  \n    'user': 'admin',\n    'password': 'mypass',\n    'host': 'hostname',\n    'port': 15942,\n    'database': 'dbname',\n}\nconnect = mysql.connector.connect(**config)  \ncur = connect.cursor()  \ncur.execute(\"SHOW DATABASES\")\nfor row in cur:  \n    print(row[0])\nconnect.close()\n\n----------------------------------", 
            "cell_type": "markdown", 
            "metadata": {}
        }, 
        {
            "source": "### 1. compose for MySQL\uc744 \uc0dd\uc131\ud569\ub2c8\ub2e4.\n\n* \uce74\ud0c8\ub85c\ub4dc \uac80\uc0c9  [IBM Cloud Catalog](https://console.bluemix.net/catalog/?search=mysql)\n\n![catalog search](https://github.com/moreal70/IBM-Watson-Studio/raw/master/images/catalog_search_mysql.png)\n\n\n\n\n* \uc11c\ube44\uc2a4 \uc0dd\uc131  [compose for mysql \uc11c\ube44\uc2a4 \uc0dd\uc131](https://console.bluemix.net/catalog/?search=mysql)\n\n![mysql creation](https://github.com/moreal70/IBM-Watson-Studio/raw/master/images/mysql_creation.png)\n", 
            "cell_type": "markdown", 
            "metadata": {}
        }, 
        {
            "source": "### 2. \uc0dd\uc131\ub41c compose for MySQL\uc5d0\uc11c \ud544\uc694\ud55c \uc815\ubcf4 \uc218\uc9d1\uc744 \ud569\ub2c8\ub2e4.\n\n* \uc544\ub798 \ud654\uba74\uc0c1\uc73c\ub85c \ud30c\uc545\ub41c connection \uc815\ubcf4\ub294 \ub2e4\uc74c\uacfc \uac19\uc2b5\ub2c8\ub2e4.\n\n    user = admin\n\n    password = (3\ubc88\uc9f8 \ud654\uba74\uc5d0\uc11c \uc7ac\uc124\uc815 \ud544\uc694)\n    \n    host = sl-us-south-1-portal.22.dblayer.com\n    \n    port = 39024\n    \n    dbname = \"compose\"   <-- \ud654\uba74\uc0c1\uc758 \ub370\uc774\ud130\ub294 \uc5c6\uc74c\n    \n\n\n![#1](https://github.com/moreal70/IBM-Watson-Studio/raw/master/images/compose_mysql_1.png)\n\n\n![#2](https://github.com/moreal70/IBM-Watson-Studio/raw/master/images/compose_mysql_2.png)\n\n\n![#3](https://github.com/moreal70/IBM-Watson-Studio/raw/master/images/compose_mysql_3.png)\n\n\n\n", 
            "cell_type": "markdown", 
            "metadata": {}
        }, 
        {
            "execution_count": null, 
            "cell_type": "code", 
            "metadata": {}, 
            "outputs": [], 
            "source": "import pymysql.cursors\nimport mysql.connector\n\nconfig = {  \n    'user': 'admin',\n    'password': 'moreal00',\n    'host': 'sl-us-south-1-portal.22.dblayer.com',\n    'port': 39024,\n    'database': 'compose'\n}\n\nconnect = mysql.connector.connect(**config)  \ncur = connect.cursor()  \n\ncur.execute(\"SHOW DATABASES\") \n\nfor row in cur:\n    print(row[0]) \n    \nconnect.close()"
        }, 
        {
            "execution_count": 2, 
            "cell_type": "code", 
            "metadata": {}, 
            "outputs": [], 
            "source": "# The code was removed by DSX for sharing."
        }, 
        {
            "source": "![inser to code mysql](https://github.com/moreal70/IBM-Watson-Studio/raw/master/images/insert_code_mysql.png)", 
            "cell_type": "markdown", 
            "metadata": {}
        }
    ], 
    "metadata": {
        "kernelspec": {
            "display_name": "Python 3.5", 
            "name": "python3", 
            "language": "python"
        }, 
        "language_info": {
            "mimetype": "text/x-python", 
            "nbconvert_exporter": "python", 
            "version": "3.5.4", 
            "name": "python", 
            "file_extension": ".py", 
            "pygments_lexer": "ipython3", 
            "codemirror_mode": {
                "version": 3, 
                "name": "ipython"
            }
        }
    }, 
    "nbformat": 4
}

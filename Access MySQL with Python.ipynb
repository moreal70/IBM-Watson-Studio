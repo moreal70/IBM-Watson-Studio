{
    "nbformat_minor": 1, 
    "cells": [
        {
            "source": "# Access \"compose for MySQL\" with Python\n\nDB \uc811\uc18d\uc744 \uc704\ud55c connection \uc815\ubcf4 \ud719\ub4dd\uc744 \uc704\ud574\uc11c\ub294 \uc544\ub798 githut \ubb38\uc11c\ub97c \ucc38\uace0\ud558\uc2ed\uc2dc\uc694.\n\n[* MySQL connection info \uc218\uc9d1 \uc808\ucc28 (github](https://github.com/moreal70/IBM-Watson-Studio/blob/master/compose%20for%20MySQL-connection.ipynb)\n\n\n## Table of contents\n\n1. [Setup](#Setup) \n1. [Import the *PyMySQL* Python library](#Import-the-PyMySQL-Python-library)\n1. [Confirm that MySQL is running](#Confirm-that-MySQL-is-running)\n1. [Identify and enter the database connection credentials](#Identify-and-enter-the-database-connection-credentials)\n1. [Create the database connection](#Create-the-database-connection)\n1. [Create a table](#Create-a-table)\n1. [Insert data into a table](#Insert-data-into-a-table)\n1. [Query data](#Query-data)\n1. [Close the database connection](#Close-the-database-connection)\n1. [Summary](#Summary)\n\n\n## Setup\n\nCLoud \ud658\uacbd\uc5d0\uc11c\ub294 \uad73\uc774 MySQL instance \ub97c \uc124\uce58\ud560 \ud544\uc694\uac00 \uc5c6\uc73c\uba70, R package\ub97c \uc124\uce58\ud558\uba74 \uc811\uc18d\uc774 \uac00\ub2a5\ud569\ub2c8\ub2e4.     \n\ud544\uc694\ud55c \uacbd\uc6b0 www.mysql.com \uc5d0\uc11c download \ubc0f installation \uac00\ub2a5\ud569\ub2c8\ub2e4.  [MySQL website](https://www.mysql.com/).\n\n\n\n## Import the *PyMySQL* Python library\n\n__PyMySQL__ \uac00 \uc124\uce58\ub418\uc9c0 \uc54a\uc740 \uacbd\uc6b0, \uc544\ub798\uc640 \uac19\uc774 command \ub85c \uc124\uce58 \uac00\ub2a5\ud569\ub2c8\ub2e4. ", 
            "cell_type": "markdown", 
            "metadata": {}
        }, 
        {
            "execution_count": 8, 
            "cell_type": "code", 
            "metadata": {}, 
            "outputs": [], 
            "source": "!pip install -q PyMySQL"
        }, 
        {
            "execution_count": 7, 
            "cell_type": "code", 
            "metadata": {}, 
            "outputs": [], 
            "source": "import pymysql.cursors"
        }, 
        {
            "execution_count": 6, 
            "cell_type": "code", 
            "metadata": {}, 
            "outputs": [
                {
                    "output_type": "stream", 
                    "name": "stdout", 
                    "text": "total 8\r\ndrwxr-x--- 2 dsxuser dsxuser 4096 Apr 13 02:45 .\r\ndrwx------ 1 dsxuser dsxuser 4096 Apr 13 02:46 ..\r\n"
                }
            ], 
            "source": "!ls -al"
        }, 
        {
            "source": "## Confirm that MySQL is running\n\nYou can test to see if MySQL is installed by opening your terminal and typing \u201cmysql\u201d. If you receive an error that MySQL cannot connect, it means that MySQL is installed, but not running.", 
            "cell_type": "markdown", 
            "metadata": {}
        }, 
        {
            "source": "## Identify and enter the database connection credentials\n\nConnecting to MySQL database requires the following information:\n* Host name or IP address \n* Host port\n* default database name\n* User ID\n* User password\n\nAll of this information must be captured in a connection string in a subsequent step. Provide the MySQL connection information as shown:", 
            "cell_type": "markdown", 
            "metadata": {}
        }, 
        {
            "execution_count": 33, 
            "cell_type": "code", 
            "metadata": {}, 
            "outputs": [], 
            "source": "#Enter the values for you database connection\ndsn_database = \"compose\"  #-32e9f9ad-32e9-49ad-b8fa-c10d3e18954a\" # for example  \"BLUDB\"\ndsn_hostname = \"sl-us-south-1-portal.23.dblayer.com\" # for example  \"mydbinstance.cz6pjylrdjko.us-east-1.rds.amazonaws.com\"\ndsn_port = 39024        # for example  3306 without quotation marks\ndsn_uid = \"admin\"      # for example  \"user1\"\ndsn_pwd = \"moreal??\"      # for example  \"7dBZ3jWt9xN6$o0JiX!m\""
        }, 
        {
            "source": "## Create the database connection\nSet up a connection as follows. If a connect cannot be made an exception will be raised. \n*conn.cursor* will return a cursor object and you can use this cursor to perform queries:", 
            "cell_type": "markdown", 
            "metadata": {}
        }, 
        {
            "execution_count": 34, 
            "cell_type": "code", 
            "metadata": {}, 
            "outputs": [], 
            "source": "#conn = MySQLdb.connect(host=dsn_hostname, port=dsn_port, user=dsn_uid, passwd=dsn_pwd, db=dsn_database)\nconn = pymysql.connect(host=dsn_hostname, port=dsn_port, user=dsn_uid, passwd=dsn_pwd, db=dsn_database)"
        }, 
        {
            "source": "## Create a table\n\nCreate a test table named Cars. The code below drops the Cars table if it already exists, and then creates the new table:", 
            "cell_type": "markdown", 
            "metadata": {
                "collapsed": true
            }
        }, 
        {
            "execution_count": 35, 
            "cell_type": "code", 
            "metadata": {}, 
            "outputs": [
                {
                    "execution_count": 35, 
                    "metadata": {}, 
                    "data": {
                        "text/plain": "0"
                    }, 
                    "output_type": "execute_result"
                }
            ], 
            "source": "conn.query(\"\"\"DROP TABLE IF EXISTS Cars\"\"\")\nconn.query(\"\"\"CREATE TABLE Cars(Id INTEGER PRIMARY KEY, Name VARCHAR(20), Price INT)\"\"\")"
        }, 
        {
            "source": "## Insert data into a table\n\nRun the following commands to create records in the new Cars table:", 
            "cell_type": "markdown", 
            "metadata": {}
        }, 
        {
            "execution_count": 36, 
            "cell_type": "code", 
            "metadata": {}, 
            "outputs": [
                {
                    "execution_count": 36, 
                    "metadata": {}, 
                    "data": {
                        "text/plain": "1"
                    }, 
                    "output_type": "execute_result"
                }
            ], 
            "source": "conn.query(\"\"\"INSERT INTO Cars VALUES(1,'Audi',52642)\"\"\")\nconn.query(\"\"\"INSERT INTO Cars VALUES(2,'Mercedes',57127)\"\"\")\nconn.query(\"\"\"INSERT INTO Cars VALUES(3,'Skoda',9000)\"\"\")\nconn.query(\"\"\"INSERT INTO Cars VALUES(4,'Volvo',29000)\"\"\")\nconn.query(\"\"\"INSERT INTO Cars VALUES(5,'Bentley',350000)\"\"\")\nconn.query(\"\"\"INSERT INTO Cars VALUES(6,'Citroen',21000)\"\"\")\nconn.query(\"\"\"INSERT INTO Cars VALUES(7,'Hummer',41400)\"\"\")\nconn.query(\"\"\"INSERT INTO Cars VALUES(8,'Volkswagen',21600)\"\"\")"
        }, 
        {
            "source": "## Query data\n\nTo fetch and display records from the Cars table, create a cursor and execute queries on it:", 
            "cell_type": "markdown", 
            "metadata": {}
        }, 
        {
            "execution_count": 41, 
            "cell_type": "code", 
            "metadata": {}, 
            "outputs": [
                {
                    "execution_count": 41, 
                    "metadata": {}, 
                    "data": {
                        "text/plain": "(1, 'Audi', 52642)"
                    }, 
                    "output_type": "execute_result"
                }
            ], 
            "source": "cursor=conn.cursor()\ncursor.execute(\"\"\"SELECT * FROM Cars\"\"\")\ncursor.fetchone()"
        }, 
        {
            "source": "You can display the records neatly using pretty print:", 
            "cell_type": "markdown", 
            "metadata": {}
        }, 
        {
            "execution_count": 42, 
            "cell_type": "code", 
            "metadata": {}, 
            "outputs": [
                {
                    "output_type": "stream", 
                    "name": "stdout", 
                    "text": "\nShow me the databases:\n\n((2, 'Mercedes', 57127),\n (3, 'Skoda', 9000),\n (4, 'Volvo', 29000),\n (5, 'Bentley', 350000),\n (6, 'Citroen', 21000),\n (7, 'Hummer', 41400),\n (8, 'Volkswagen', 21600))\n"
                }
            ], 
            "source": "print (\"\\nShow me the databases:\\n\")\nrows = cursor.fetchall()\nimport pprint\npprint.pprint(rows)"
        }, 
        {
            "source": "## Close the database connection\nIt is good practice to close your database connection after work is done:", 
            "cell_type": "markdown", 
            "metadata": {}
        }, 
        {
            "execution_count": 43, 
            "cell_type": "code", 
            "metadata": {}, 
            "outputs": [], 
            "source": "conn.close()"
        }, 
        {
            "source": "## Summary\n\nThis notebook demonstrated how to establish a connection to a MySQL database from Python using the PyMySQL library. For more information on the PyMySQL package see the official [PyMySQL Documentation](http://pymysql.readthedocs.io/en/latest/).", 
            "cell_type": "markdown", 
            "metadata": {}
        }, 
        {
            "source": "### Authors\n\n**Saeed Aghabozorgi**, PhD, is a Data Scientist in IBM with a track record of developing enterprise-level applications that substantially increases clients' ability to turn data into actionable knowledge. He is a researcher in the data mining field and an expert in developing advanced analytic methods like machine learning and statistical modelling on large data sets.\n\n**Polong Lin** is a Data Scientist at IBM in Canada. Under the Emerging Technologies division, Polong is responsible for educating the next generation of data scientists through Big Data University. Polong is a regular speaker in conferences and meetups, and holds an M.Sc. in Cognitive Psychology.", 
            "cell_type": "markdown", 
            "metadata": {}
        }, 
        {
            "source": "Copyright \u00a9 2016, 2018 Cognitive Class. This notebook and its source code are released under the terms of the <a href=\"https://bigdatauniversity.com/mit-license/\" rel=\"noopener noreferrer\" target=\"_blank\">MIT License</a>.", 
            "cell_type": "markdown", 
            "metadata": {}
        }
    ], 
    "metadata": {
        "kernelspec": {
            "display_name": "Python 3.5", 
            "name": "python3", 
            "language": "python"
        }, 
        "language_info": {
            "mimetype": "text/x-python", 
            "nbconvert_exporter": "python", 
            "version": "3.5.4", 
            "name": "python", 
            "file_extension": ".py", 
            "pygments_lexer": "ipython3", 
            "codemirror_mode": {
                "version": 3, 
                "name": "ipython"
            }
        }
    }, 
    "nbformat": 4
}

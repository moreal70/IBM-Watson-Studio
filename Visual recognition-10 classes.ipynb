{
    "nbformat_minor": 1, 
    "cells": [
        {
            "source": "# Visual Recognition basic sample\n* ***\ud504\ub85c\uadf8\ub7a8\uc744 \ub3cc\ub9ac\uae30 \uc804\uc5d0 \ubbf8\ub9ac VR model \uc744 build \ud574\uc57c\ud569\ub2c8\ub2e4.***\n* ***\uac04\ub7b5\ud788 \ubaa8\ub378 build \ud558\ub294 \uacfc\uc815\uc744 \uc124\uba85\ud558\uba74,***      \n    1. class \ubcc4\ub85c \uc774\ubbf8\uc9c0 \ud654\uc77c\uc744 zip \ud574\uc11c \uc900\ube44\ud569\ub2c8\ub2e4.  ex) apple.zip ship.zip\n    2. \uc900\ube44\ub41c zip \ud654\uc77c\uc744 custom model builder \ud654\uba74\uc5d0\uc11c \ub123\uace0 train \uc2dc\ud0b5\ub2c8\ub2e4.\n    3. classifier_id, api_key \uc815\ubcf4 \ub4f1\uc744 \uc218\uc9d1\ud558\uc5ec \ud504\ub85c\uadf8\ub7a8\uc5d0 \ubc18\uc601\ud569\ub2c8\ub2e4.", 
            "cell_type": "markdown", 
            "metadata": {
                "collapsed": true
            }
        }, 
        {
            "execution_count": 12, 
            "cell_type": "code", 
            "metadata": {}, 
            "outputs": [
                {
                    "output_type": "stream", 
                    "name": "stdout", 
                    "text": "Requirement already up-to-date: jason in /opt/conda/envs/DSX-Python35/lib/python3.5/site-packages\r\n"
                }
            ], 
            "source": "#!pip install --upgrade \"watson-developer-cloud>=1.0,<2.0\"\n!pip install --upgrade jason\n#!pip install django"
        }, 
        {
            "execution_count": 22, 
            "cell_type": "code", 
            "metadata": {}, 
            "outputs": [], 
            "source": "import json\n\nfrom watson_developer_cloud import VisualRecognitionV3\n\nvisual_recognition = VisualRecognitionV3(\n    '2016-05-20',\n    api_key='xeab14d1a08e3fd867a04be0cb52808f9ccce80eex'    #masking, use your own\n)"
        }, 
        {
            "source": "* ***\uc0c8\ub85c custom build \ud55c classifier \uc815\ubcf4\ub97c \ucd9c\ub825 \ud569\ub2c8\ub2e4.***", 
            "cell_type": "markdown", 
            "metadata": {}
        }, 
        {
            "execution_count": 30, 
            "cell_type": "code", 
            "metadata": {}, 
            "outputs": [
                {
                    "output_type": "stream", 
                    "name": "stdout", 
                    "text": "{\n          \"name\": \"Default Custom Model\",\n          \"retrained\": \"2018-04-26T04:38:31.789Z\",\n          \"updated\": \"2018-04-26T04:38:31.789Z\",\n          \"owner\": \"6ffdad1d-a5f6-480c-9d47-1d193a6a9fe6\",\n          \"classifier_id\": \"DefaultCustomModel_540548383\",\n          \"status\": \"ready\",\n          \"classes\": [\n                    {\n                              \"class\": \"airplain.zip\"\n                    },\n                    {\n                              \"class\": \"automobile.zip\"\n                    },\n                    {\n                              \"class\": \"bird.zip\"\n                    },\n                    {\n                              \"class\": \"cat.zip\"\n                    },\n                    {\n                              \"class\": \"deer.zip\"\n                    },\n                    {\n                              \"class\": \"dog.zip\"\n                    },\n                    {\n                              \"class\": \"frog.zip\"\n                    },\n                    {\n                              \"class\": \"horse.zip\"\n                    },\n                    {\n                              \"class\": \"ship.zip\"\n                    },\n                    {\n                              \"class\": \"truck.zip\"\n                    }\n          ],\n          \"core_ml_enabled\": true,\n          \"created\": \"2018-04-26T02:24:43.421Z\"\n}\n"
                }
            ], 
            "source": "classifier = visual_recognition.get_classifier(\n    classifier_id='DefaultCustomModel_540548383')\nprint(json.dumps(classifier, indent=10))"
        }, 
        {
            "source": "* ***sample\ub85c image \ud558\ub098\ub97c \ub123\uc5b4\uc11c \uc5b4\ub5bb\uac8c classify \ub418\ub294\uc9c0 test \ud569\ub2c8\ub2e4.***", 
            "cell_type": "markdown", 
            "metadata": {}
        }, 
        {
            "execution_count": 26, 
            "cell_type": "code", 
            "metadata": {}, 
            "outputs": [], 
            "source": "#image_url = 'https://watson-developer-cloud.github.io/doc-tutorial-downloads/visual-recognition/visual-recognition-food-fruit.png'\nimage_url = 'https://github.com/moreal70/IBM-Watson-Studio/raw/master/image-VR/0-data_batch_5.bin-125.png'\n#image_file = open(image_url, 'rb')\nclasses = visual_recognition.classify(\n        url=image_url,\n        threshold='0.6',\n        classifier_ids='DefaultCustomModel_540548383')"
        }, 
        {
            "source": "* ***classes \ub294 dict \ud0c0\uc785\uc785\ub2c8\ub2e4.***", 
            "cell_type": "markdown", 
            "metadata": {}
        }, 
        {
            "execution_count": 27, 
            "cell_type": "code", 
            "metadata": {}, 
            "outputs": [
                {
                    "execution_count": 27, 
                    "metadata": {}, 
                    "data": {
                        "text/plain": "[{'classifiers': [{'classes': [{'class': 'bird.zip', 'score': 0.914}],\n    'classifier_id': 'DefaultCustomModel_540548383',\n    'name': 'Default Custom Model'}],\n  'resolved_url': 'https://raw.githubusercontent.com/moreal70/IBM-Watson-Studio/master/image-VR/0-data_batch_5.bin-125.png',\n  'source_url': 'https://github.com/moreal70/IBM-Watson-Studio/raw/master/image-VR/0-data_batch_5.bin-125.png'}]"
                    }, 
                    "output_type": "execute_result"
                }
            ], 
            "source": "classes.get(\"images\")"
        }, 
        {
            "execution_count": 28, 
            "cell_type": "code", 
            "metadata": {}, 
            "outputs": [
                {
                    "output_type": "stream", 
                    "name": "stdout", 
                    "text": "{\n  \"images\": [\n    {\n      \"source_url\": \"https://github.com/moreal70/IBM-Watson-Studio/raw/master/image-VR/0-data_batch_5.bin-125.png\",\n      \"resolved_url\": \"https://raw.githubusercontent.com/moreal70/IBM-Watson-Studio/master/image-VR/0-data_batch_5.bin-125.png\",\n      \"classifiers\": [\n        {\n          \"classifier_id\": \"DefaultCustomModel_540548383\",\n          \"name\": \"Default Custom Model\",\n          \"classes\": [\n            {\n              \"class\": \"bird.zip\",\n              \"score\": 0.914\n            }\n          ]\n        }\n      ]\n    }\n  ],\n  \"images_processed\": 1,\n  \"custom_classes\": 10\n}\n"
                }
            ], 
            "source": "print(json.dumps(classes, indent=2))"
        }
    ], 
    "metadata": {
        "kernelspec": {
            "display_name": "Python 3.5", 
            "name": "python3", 
            "language": "python"
        }, 
        "language_info": {
            "mimetype": "text/x-python", 
            "nbconvert_exporter": "python", 
            "version": "3.5.4", 
            "name": "python", 
            "file_extension": ".py", 
            "pygments_lexer": "ipython3", 
            "codemirror_mode": {
                "version": 3, 
                "name": "ipython"
            }
        }
    }, 
    "nbformat": 4
}
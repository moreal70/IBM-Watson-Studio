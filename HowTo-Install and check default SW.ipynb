{
    "nbformat_minor": 1, 
    "cells": [
        {
            "source": "# HowTo : Install module and check default installed sw on the environment ", 
            "cell_type": "markdown", 
            "metadata": {
                "_uuid": "08895c5c643bab33e61205b8340a7ba7b88f8ed2", 
                "_cell_guid": "12528ba7-230e-407a-a312-ef8f6ca9a99e"
            }
        }, 
        {
            "source": "* ***python module \uc774 \uc124\uce58 \ub418\uc5b4 \uc788\uc9c0 \uc54a\uc73c\uba74  import \ud560\ub54c \uc5d0\ub7ec\uac00 \ubc1c\uc0dd\ud558\ub294\ub370, \uc774 \uacbd\uc6b0 \uc544\ub798\uc640 \uac19\uc774 shell command \ub85c \uc124\uce58\uac00 \uac00\ub2a5\ud558\ub2e4***", 
            "cell_type": "markdown", 
            "metadata": {
                "_uuid": "efb595c75201cdb2a53388dc152a8e526e1b921a", 
                "_cell_guid": "872b97b2-56fe-4644-a11f-afb00f422169"
            }
        }, 
        {
            "execution_count": 3, 
            "cell_type": "code", 
            "metadata": {}, 
            "outputs": [
                {
                    "output_type": "stream", 
                    "name": "stdout", 
                    "text": "Requirement not upgraded as not directly required: numpy in /opt/conda/envs/DSX-Python35/lib/python3.5/site-packages\nRequirement not upgraded as not directly required: pandas in /opt/conda/envs/DSX-Python35/lib/python3.5/site-packages\nRequirement not upgraded as not directly required: python-dateutil>=2 in /opt/conda/envs/DSX-Python35/lib/python3.5/site-packages (from pandas)\nRequirement not upgraded as not directly required: pytz>=2011k in /opt/conda/envs/DSX-Python35/lib/python3.5/site-packages (from pandas)\nRequirement not upgraded as not directly required: numpy>=1.9.0 in /opt/conda/envs/DSX-Python35/lib/python3.5/site-packages (from pandas)\nRequirement not upgraded as not directly required: six>=1.5 in /opt/conda/envs/DSX-Python35/lib/python3.5/site-packages (from python-dateutil>=2->pandas)\n"
                }
            ], 
            "source": "!pip install numpy\n!pip install pandas"
        }, 
        {
            "execution_count": 7, 
            "cell_type": "code", 
            "metadata": {
                "_uuid": "efb595c75201cdb2a53388dc152a8e526e1b921a", 
                "_cell_guid": "872b97b2-56fe-4644-a11f-afb00f422169"
            }, 
            "outputs": [], 
            "source": "import numpy as np\nimport pandas as pd"
        }, 
        {
            "source": "* ***\uc124\uce58\uac00 \uc798 \ub418\uc5c8\ub2e4\uba74 \uc704\uc5d0 import \ub294 \uc815\uc0c1\uc801\uc73c\ub85c \ucc98\ub9ac\ub420 \uac83\uc774\ub2e4***", 
            "cell_type": "markdown", 
            "metadata": {}
        }, 
        {
            "source": "* ***\uc774\uc640\ub294 \ubcc4\ub3c4\ub85c notebook \ud658\uacbd\uc5d0 default \ub85c \uc124\uce58\ub41c SW configuration\uc740 \uc544\ub798\uc640 \uac19\uc774 \ud655\uc778 \uac00\ub2a5\ud558\ub2e4.***\n\n![env view detail](https://github.com/moreal70/IBM-Watson-Studio/raw/master/images/env_view_details.PNG)", 
            "cell_type": "markdown", 
            "metadata": {}
        }, 
        {
            "source": "* ***SW configuration details***\n\n![SW configuration](https://github.com/moreal70/IBM-Watson-Studio/raw/master/images/notebook_sw_config.png)", 
            "cell_type": "markdown", 
            "metadata": {}
        }
    ], 
    "metadata": {
        "kernelspec": {
            "display_name": "Python 3.5", 
            "name": "python3", 
            "language": "python"
        }, 
        "language_info": {
            "mimetype": "text/x-python", 
            "nbconvert_exporter": "python", 
            "version": "3.5.4", 
            "name": "python", 
            "file_extension": ".py", 
            "pygments_lexer": "ipython3", 
            "codemirror_mode": {
                "version": 3, 
                "name": "ipython"
            }
        }, 
        "celltoolbar": "Raw Cell Format"
    }, 
    "nbformat": 4
}
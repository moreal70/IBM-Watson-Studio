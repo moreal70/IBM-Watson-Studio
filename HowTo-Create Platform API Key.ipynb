{
    "nbformat_minor": 1, 
    "cells": [
        {
            "source": "# HowTo : Create Platform API Key ", 
            "cell_type": "markdown", 
            "metadata": {
                "_uuid": "08895c5c643bab33e61205b8340a7ba7b88f8ed2", 
                "_cell_guid": "12528ba7-230e-407a-a312-ef8f6ca9a99e"
            }
        }, 
        {
            "source": "* ***Watson studio platform \uc5d0\uc11c \uc81c\uacf5\ud558\ub294 Platform API Key\ub97c \uc0dd\uc131\ud558\ub294 \ubc29\ubc95\uc785\ub2c8\ub2e4.***\n* ***\uc544\ub798\uc640 \uac19\uc774 \uba54\ub274\ub97c \ud0c0\uace0 \ub4e4\uc5b4\uac00\uba74, \uc774\ubbf8 \uc5ec\ub7ec\uac1c\uac00 \uc0dd\uc131\ub418\uc5b4 \uc788\uc744\uc218\ub3c4 \uc788\uc2b5\ub2c8\ub2e4\ub9cc,  API key\ub97c \uc870\ud68c\ud560 \uc218 \ub294 \uc5c6\uc2b5\ub2c8\ub2e4.***\n* ***\ubbf8\ub9ac \uc800\uc7a5\ud574\ub193\uc9c0 \uc54a\uc558\ub2e4\uba74 \uc0c8\ub85c\uc774 \uc0dd\uc131\ud574\uc11c key\ub97c \uac00\uc838\uc640\uc57c \ud569\ub2c8\ub2e4.***", 
            "cell_type": "markdown", 
            "metadata": {
                "_uuid": "efb595c75201cdb2a53388dc152a8e526e1b921a", 
                "_cell_guid": "872b97b2-56fe-4644-a11f-afb00f422169"
            }
        }, 
        {
            "source": "* ***Default SW configuration***\n\n![SW configuration](https://github.com/moreal70/IBM-Watson-Studio/raw/master/images/platform_api_key.png)", 
            "cell_type": "markdown", 
            "metadata": {}
        }, 
        {
            "source": "* ***key name\uc744 \ub123\uace0 \uc0dd\uc131\uc744 \ud558\uac8c \ub418\uba74 \uc544\ub798\uc640 \uac19\uc774 \ub098\uc635\ub2c8\ub2e4. ***\n* ***\ud45c\uc2dc\ub97c \ub20c\ub7ec\uc11c \ubcf4\uc774\uac8c \ud558\uace0 key\ub97c \uac00\uc838\uc624\uba74 \ub429\ub2c8\ub2e4.***\n* ***\ub2e4\uc6b4\ub85c\ub4dc\ub97c \ud574\uc11c  json \ud654\uc77c\ub85c \uc800\uc7a5\ud574 \ub450\uba74 \ub2e4\uc74c\uc5d0 \ub2e4\uc2dc \uc0dd\uc131\ud558\uc9c0 \uc54a\uace0 \uc0ac\uc6a9\ud560 \uc218 \uc788\uc2b5\ub2c8\ub2e4.***", 
            "cell_type": "markdown", 
            "metadata": {
                "_uuid": "0333d5086a63e3870708e7ba7a540d036c53544e", 
                "_cell_guid": "080fb327-390d-4124-b287-a561d050fe7e"
            }
        }, 
        {
            "source": "<img src=\"https://github.com/moreal70/IBM-Watson-Studio/raw/master/images/platform_api_key_generated.png\" alt=\"API KEY\" width=\"500\" height=\"600\">", 
            "cell_type": "markdown", 
            "metadata": {
                "_uuid": "0333d5086a63e3870708e7ba7a540d036c53544e", 
                "_cell_guid": "080fb327-390d-4124-b287-a561d050fe7e"
            }
        }
    ], 
    "metadata": {
        "kernelspec": {
            "display_name": "Python 3.5", 
            "name": "python3", 
            "language": "python"
        }, 
        "language_info": {
            "mimetype": "text/x-python", 
            "nbconvert_exporter": "python", 
            "version": "3.5.4", 
            "name": "python", 
            "file_extension": ".py", 
            "pygments_lexer": "ipython3", 
            "codemirror_mode": {
                "version": 3, 
                "name": "ipython"
            }
        }, 
        "celltoolbar": "Raw Cell Format"
    }, 
    "nbformat": 4
}